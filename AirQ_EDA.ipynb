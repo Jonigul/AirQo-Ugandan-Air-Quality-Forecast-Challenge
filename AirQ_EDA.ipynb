{
 "cells": [
  {
   "cell_type": "code",
   "execution_count": null,
   "id": "4ecc7426-91e0-4e5d-8d5e-16241afa6155",
   "metadata": {},
   "outputs": [],
   "source": [
    "import pandas as pd \n",
    "import numpy as np \n",
    "from tqdm import tqdm\n",
    "import math\n",
    "import gc\n",
    "\n",
    "# EDA\n",
    "from pandas_profiling import ProfileReport"
   ]
  },
  {
   "cell_type": "code",
   "execution_count": null,
   "id": "5ea55d64-faa1-44fa-8405-b9660910d4a7",
   "metadata": {},
   "outputs": [],
   "source": [
    "df = pd.read_csv(\"./data/Train.csv\")\n",
    "#column_names = df.columns\n",
    "#test=pd.read_csv(\"./data/Test.csv\")\n",
    "#sample_sub=pd.read_csv(\"./data/sample_sub.csv\")\n",
    "#column_names = "
   ]
  },
  {
   "cell_type": "markdown",
   "id": "34da567f-f54d-408c-92e2-bad4d489c4b9",
   "metadata": {},
   "source": [
    "## Data Preparation / Cleaning"
   ]
  },
  {
   "cell_type": "code",
   "execution_count": null,
   "id": "75a21f2f-b9b2-4418-b83c-9ed1614352a0",
   "metadata": {},
   "outputs": [],
   "source": [
    "# Data Preparation / Cleaning"
   ]
  },
  {
   "cell_type": "code",
   "execution_count": null,
   "id": "229e8694-7386-4696-9912-253324654ea9",
   "metadata": {},
   "outputs": [],
   "source": [
    "def replace_nan(x):\n",
    "    if x==\" \":\n",
    "        return np.nan\n",
    "    else :\n",
    "        return float(x)\n",
    "features=[\"temp\",\"precip\",\"rel_humidity\",\"wind_dir\",\"wind_spd\",\"atmos_press\"]\n",
    "for feature in features : \n",
    "    df[feature]=df[feature].apply(lambda x: [ replace_nan(X) for X in x.replace(\"nan\",\" \").split(\",\")])\n",
    "    \n"
   ]
  },
  {
   "cell_type": "code",
   "execution_count": null,
   "id": "f30f792e-4566-4454-a018-f700574bc898",
   "metadata": {},
   "outputs": [],
   "source": [
    "def aggregate_features(x,col_name):\n",
    "    x[\"max_\"+col_name]=x[col_name].apply(np.max)\n",
    "    x[\"min_\"+col_name]=x[col_name].apply(np.min)\n",
    "    x[\"mean_\"+col_name]=x[col_name].apply(np.mean)\n",
    "    x[\"std_\"+col_name]=x[col_name].apply(np.std)\n",
    "    x[\"var_\"+col_name]=x[col_name].apply(np.var)\n",
    "    x[\"median_\"+col_name]=x[col_name].apply(np.median)\n",
    "    x[\"ptp_\"+col_name]=x[col_name].apply(np.ptp)\n",
    "    return x  \n",
    "def remove_nan_values(x):\n",
    "    return [e for e in x if not math.isnan(e)]\n",
    "\n"
   ]
  },
  {
   "cell_type": "code",
   "execution_count": null,
   "id": "6bb64835-f678-46f4-8778-2a8ed3992e07",
   "metadata": {},
   "outputs": [],
   "source": [
    "#data=pd.concat([train,test],sort=False).reset_index(drop=True)\n",
    "df.columns.tolist()"
   ]
  },
  {
   "cell_type": "code",
   "execution_count": null,
   "id": "8d966ca9-92f6-4c85-9290-17f0708fa39f",
   "metadata": {},
   "outputs": [],
   "source": [
    "df.shape"
   ]
  },
  {
   "cell_type": "code",
   "execution_count": null,
   "id": "e9297282-2aa1-469f-a7b1-41c53deb2dce",
   "metadata": {},
   "outputs": [],
   "source": [
    "for col_name in tqdm(features):\n",
    "    df[col_name]=df[col_name].apply(remove_nan_values)"
   ]
  },
  {
   "cell_type": "code",
   "execution_count": null,
   "id": "9805758b-4037-4d89-b552-f571955dd5a7",
   "metadata": {},
   "outputs": [],
   "source": [
    "for col_name in tqdm(features):\n",
    "    df=aggregate_features(df,col_name)"
   ]
  },
  {
   "cell_type": "code",
   "execution_count": null,
   "id": "adfb1cfd-ff65-4985-9f3f-38dc534bc960",
   "metadata": {},
   "outputs": [],
   "source": [
    "for x in range(121):\n",
    "    df[\"newtemp\"+ str(x)] = df.temp.str[x]\n",
    "    df[\"newprecip\"+ str(x)] = df.precip.str[x]\n",
    "    df[\"newrel_humidity\"+ str(x)] = df.rel_humidity.str[x]\n",
    "    df[\"newwind_dir\"+ str(x)] = df.wind_dir.str[x]\n",
    "    df[\"windspeed\"+ str(x)] = df.wind_spd.str[x]\n",
    "    df[\"atmospherepressure\"+ str(x)] = df.atmos_press.str[x]"
   ]
  },
  {
   "cell_type": "code",
   "execution_count": null,
   "id": "ab83709a-2d02-48c4-a133-fe19633f7431",
   "metadata": {},
   "outputs": [],
   "source": [
    "df.drop(features,1,inplace=True)"
   ]
  },
  {
   "cell_type": "code",
   "execution_count": null,
   "id": "b17126e6-b259-4a4a-9e24-e95d4dd02b1c",
   "metadata": {},
   "outputs": [],
   "source": [
    "df=df[df.target.notnull()].reset_index(drop=True)"
   ]
  },
  {
   "cell_type": "code",
   "execution_count": null,
   "id": "4511a9ac-10e2-44f5-8def-889548b1716e",
   "metadata": {},
   "outputs": [],
   "source": [
    "df.head()"
   ]
  },
  {
   "cell_type": "code",
   "execution_count": null,
   "id": "b4bb6d20-ff77-4afb-91a9-52a5fb78b8fd",
   "metadata": {},
   "outputs": [],
   "source": [
    "df_new = df.iloc[:,0:45]"
   ]
  },
  {
   "cell_type": "code",
   "execution_count": null,
   "id": "c8247ad3-e6dc-406b-b4a2-f19c2b8aa5bd",
   "metadata": {},
   "outputs": [],
   "source": [
    "df_new.shape"
   ]
  },
  {
   "cell_type": "code",
   "execution_count": null,
   "id": "13c0b003-c117-4564-97ad-405bf7840c53",
   "metadata": {},
   "outputs": [],
   "source": [
    "df_new.info(10)"
   ]
  },
  {
   "cell_type": "code",
   "execution_count": null,
   "id": "70af9fb5-a4f7-4809-9ae1-146b79ac6b71",
   "metadata": {},
   "outputs": [],
   "source": [
    "profile = ProfileReport(df_new, title=\"Pandas Profiling Report\", explorative=True)\n",
    "profile"
   ]
  },
  {
   "cell_type": "code",
   "execution_count": null,
   "id": "60810698-7142-4e1d-a6d3-a0dd43cb3c61",
   "metadata": {},
   "outputs": [],
   "source": [
    "#profile.to_file(\"Analysis.html\")"
   ]
  },
  {
   "cell_type": "code",
   "execution_count": null,
   "id": "137b6ccb-d8a6-4dfa-99f3-8864f86f82df",
   "metadata": {},
   "outputs": [],
   "source": [
    "df_new.to_csv(\"./data/df_stat.csv\")"
   ]
  },
  {
   "cell_type": "code",
   "execution_count": null,
   "id": "d7c2d9c6-3d95-4a86-8ae3-1ebf90cb3519",
   "metadata": {},
   "outputs": [],
   "source": []
  }
 ],
 "metadata": {
  "kernelspec": {
   "display_name": "Python 3 (ipykernel)",
   "language": "python",
   "name": "python3"
  },
  "language_info": {
   "codemirror_mode": {
    "name": "ipython",
    "version": 3
   },
   "file_extension": ".py",
   "mimetype": "text/x-python",
   "name": "python",
   "nbconvert_exporter": "python",
   "pygments_lexer": "ipython3",
   "version": "3.9.4"
  }
 },
 "nbformat": 4,
 "nbformat_minor": 5
}
