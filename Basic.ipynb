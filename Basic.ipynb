{
 "cells": [
  {
   "cell_type": "code",
   "execution_count": 1,
   "id": "32d63104-bfe5-44d5-b412-68abe7dcfe26",
   "metadata": {},
   "outputs": [],
   "source": [
    "import pandas as pd \n",
    "import numpy as np \n",
    "import matplotlib.pyplot as plt\n",
    "import plotly.express as px\n",
    "import math\n",
    "import gc\n",
    "import seaborn as sns\n",
    "import lightgbm as lgbm \n",
    "import xgboost as xgb\n",
    "\n",
    "from tqdm import tqdm\n",
    "from sklearn.linear_model import LinearRegression\n",
    "from sklearn.linear_model import LogisticRegression\n",
    "from sklearn.model_selection import train_test_split\n",
    "from sklearn.metrics import mean_squared_error, r2_score\n",
    "from sklearn.tree import DecisionTreeClassifier\n",
    "from sklearn.neighbors import KNeighborsRegressor\n",
    "from sklearn.ensemble import RandomForestRegressor\n",
    "from sklearn.datasets import make_regression\n",
    "from sklearn.svm import SVR\n",
    "from sklearn.preprocessing import MinMaxScaler,PolynomialFeatures\n",
    "from sklearn.preprocessing import StandardScaler\n",
    "\n",
    "#import catboost as cat"
   ]
  },
  {
   "cell_type": "code",
   "execution_count": 2,
   "id": "ba4dee11-0537-453d-abd4-d69ffb9db391",
   "metadata": {},
   "outputs": [],
   "source": [
    "df = pd.read_csv('./data/df_stat.csv')"
   ]
  },
  {
   "cell_type": "code",
   "execution_count": 3,
   "id": "dbfdf5f9-828d-4b06-b9d5-a2166c641c75",
   "metadata": {},
   "outputs": [],
   "source": [
    "from sklearn.metrics import mean_squared_error\n",
    "def metric(y,x):\n",
    "    return round(np.sqrt(mean_squared_error(x,y)),3)"
   ]
  },
  {
   "cell_type": "code",
   "execution_count": 4,
   "id": "b6b446d3-b6fb-471a-add4-d9b5c213abec",
   "metadata": {},
   "outputs": [],
   "source": [
    "df = pd.get_dummies(df, columns=['location'], drop_first=True)"
   ]
  },
  {
   "cell_type": "code",
   "execution_count": 5,
   "id": "5b13b16e-7688-4208-8caa-3e0568063f38",
   "metadata": {},
   "outputs": [
    {
     "data": {
      "text/html": [
       "<div>\n",
       "<style scoped>\n",
       "    .dataframe tbody tr th:only-of-type {\n",
       "        vertical-align: middle;\n",
       "    }\n",
       "\n",
       "    .dataframe tbody tr th {\n",
       "        vertical-align: top;\n",
       "    }\n",
       "\n",
       "    .dataframe thead th {\n",
       "        text-align: right;\n",
       "    }\n",
       "</style>\n",
       "<table border=\"1\" class=\"dataframe\">\n",
       "  <thead>\n",
       "    <tr style=\"text-align: right;\">\n",
       "      <th></th>\n",
       "      <th>Unnamed: 0</th>\n",
       "      <th>ID</th>\n",
       "      <th>target</th>\n",
       "      <th>max_temp</th>\n",
       "      <th>min_temp</th>\n",
       "      <th>mean_temp</th>\n",
       "      <th>std_temp</th>\n",
       "      <th>var_temp</th>\n",
       "      <th>median_temp</th>\n",
       "      <th>ptp_temp</th>\n",
       "      <th>...</th>\n",
       "      <th>min_atmos_press</th>\n",
       "      <th>mean_atmos_press</th>\n",
       "      <th>std_atmos_press</th>\n",
       "      <th>var_atmos_press</th>\n",
       "      <th>median_atmos_press</th>\n",
       "      <th>ptp_atmos_press</th>\n",
       "      <th>location_B</th>\n",
       "      <th>location_C</th>\n",
       "      <th>location_D</th>\n",
       "      <th>location_E</th>\n",
       "    </tr>\n",
       "  </thead>\n",
       "  <tbody>\n",
       "    <tr>\n",
       "      <th>0</th>\n",
       "      <td>0</td>\n",
       "      <td>ID_train_0</td>\n",
       "      <td>45.126304</td>\n",
       "      <td>27.208333</td>\n",
       "      <td>19.275</td>\n",
       "      <td>22.299527</td>\n",
       "      <td>2.594011</td>\n",
       "      <td>6.728895</td>\n",
       "      <td>21.358333</td>\n",
       "      <td>7.933333</td>\n",
       "      <td>...</td>\n",
       "      <td>87.614167</td>\n",
       "      <td>87.752434</td>\n",
       "      <td>0.070374</td>\n",
       "      <td>0.004952</td>\n",
       "      <td>87.762083</td>\n",
       "      <td>0.2575</td>\n",
       "      <td>0</td>\n",
       "      <td>1</td>\n",
       "      <td>0</td>\n",
       "      <td>0</td>\n",
       "    </tr>\n",
       "  </tbody>\n",
       "</table>\n",
       "<p>1 rows × 49 columns</p>\n",
       "</div>"
      ],
      "text/plain": [
       "   Unnamed: 0          ID     target   max_temp  min_temp  mean_temp  \\\n",
       "0           0  ID_train_0  45.126304  27.208333    19.275  22.299527   \n",
       "\n",
       "   std_temp  var_temp  median_temp  ptp_temp  ...  min_atmos_press  \\\n",
       "0  2.594011  6.728895    21.358333  7.933333  ...        87.614167   \n",
       "\n",
       "   mean_atmos_press  std_atmos_press  var_atmos_press  median_atmos_press  \\\n",
       "0         87.752434         0.070374         0.004952           87.762083   \n",
       "\n",
       "   ptp_atmos_press  location_B  location_C  location_D  location_E  \n",
       "0           0.2575           0           1           0           0  \n",
       "\n",
       "[1 rows x 49 columns]"
      ]
     },
     "execution_count": 5,
     "metadata": {},
     "output_type": "execute_result"
    }
   ],
   "source": [
    "df.head(1)"
   ]
  },
  {
   "cell_type": "code",
   "execution_count": 6,
   "id": "62a0ba33-a387-4359-ad82-b7ee48d47289",
   "metadata": {},
   "outputs": [],
   "source": [
    "RMSE_train = []\n",
    "RMSE_test = []"
   ]
  },
  {
   "cell_type": "code",
   "execution_count": 7,
   "id": "956d2bc7-51da-429c-806a-62d7b1820e6b",
   "metadata": {},
   "outputs": [],
   "source": [
    "X = df.drop(['target', 'ID'], axis=1)\n",
    "y = df.target"
   ]
  },
  {
   "cell_type": "code",
   "execution_count": 8,
   "id": "5e291429-0fd0-4cb3-9e5e-6dcf1a1c319d",
   "metadata": {},
   "outputs": [],
   "source": [
    "X_train, X_test, y_train, y_test = train_test_split(X, y, test_size = 0.2, random_state = 42)"
   ]
  },
  {
   "cell_type": "code",
   "execution_count": 9,
   "id": "56b74fe5-1fdc-4db1-8a58-7477d5adf5f9",
   "metadata": {},
   "outputs": [
    {
     "data": {
      "text/plain": [
       "Index(['Unnamed: 0', 'max_temp', 'min_temp', 'mean_temp', 'std_temp',\n",
       "       'var_temp', 'median_temp', 'ptp_temp', 'max_precip', 'min_precip',\n",
       "       'mean_precip', 'std_precip', 'var_precip', 'median_precip',\n",
       "       'ptp_precip', 'max_rel_humidity', 'min_rel_humidity',\n",
       "       'mean_rel_humidity', 'std_rel_humidity', 'var_rel_humidity',\n",
       "       'median_rel_humidity', 'ptp_rel_humidity', 'max_wind_dir',\n",
       "       'min_wind_dir', 'mean_wind_dir', 'std_wind_dir', 'var_wind_dir',\n",
       "       'median_wind_dir', 'ptp_wind_dir', 'max_wind_spd', 'min_wind_spd',\n",
       "       'mean_wind_spd', 'std_wind_spd', 'var_wind_spd', 'median_wind_spd',\n",
       "       'ptp_wind_spd', 'max_atmos_press', 'min_atmos_press',\n",
       "       'mean_atmos_press', 'std_atmos_press', 'var_atmos_press',\n",
       "       'median_atmos_press', 'ptp_atmos_press', 'location_B', 'location_C',\n",
       "       'location_D', 'location_E'],\n",
       "      dtype='object')"
      ]
     },
     "execution_count": 9,
     "metadata": {},
     "output_type": "execute_result"
    }
   ],
   "source": [
    "columns = X_train.columns\n",
    "columns"
   ]
  },
  {
   "cell_type": "code",
   "execution_count": 10,
   "id": "ef1ae9f7-48e9-4545-8d99-90c1f4340a66",
   "metadata": {},
   "outputs": [],
   "source": [
    "scalerStand = StandardScaler()\n",
    "X_train = scalerStand.fit_transform(X_train)\n",
    "X_test = scalerStand.transform(X_test)"
   ]
  },
  {
   "cell_type": "markdown",
   "id": "de9ba4b0-b7eb-4e15-ba9b-9fa601ea58b4",
   "metadata": {},
   "source": [
    "scalerMinMax = MinMaxScaler()\n",
    "X_train = scalerMinMax.fit_transform(X_train)\n",
    "X_test = scalerMinMax.transform(X_test)"
   ]
  },
  {
   "cell_type": "code",
   "execution_count": 11,
   "id": "8625d33e-f0dc-410c-bfd4-e199d9994a80",
   "metadata": {},
   "outputs": [],
   "source": [
    "# scaled X_train data to pandas Dataframe\n",
    "X_train = pd.DataFrame(X_train)\n",
    "X_train.columns = columns\n",
    "X_train.drop('Unnamed: 0', axis=1, inplace=True)"
   ]
  },
  {
   "cell_type": "code",
   "execution_count": 12,
   "id": "69b5560f-7a67-490d-8a64-3068b89c278a",
   "metadata": {},
   "outputs": [],
   "source": [
    "# scaled X_test data to pandas Dataframe\n",
    "X_test = pd.DataFrame(X_test)\n",
    "X_test.columns = columns\n",
    "X_test.drop('Unnamed: 0', axis=1, inplace=True)"
   ]
  },
  {
   "cell_type": "code",
   "execution_count": 13,
   "id": "89122a9b-c149-46b7-a326-f761d9124404",
   "metadata": {},
   "outputs": [
    {
     "name": "stdout",
     "output_type": "stream",
     "text": [
      "Train RMSE: 37.667\n",
      "Test RMSE: 39.207\n"
     ]
    }
   ],
   "source": [
    "lr = LinearRegression()\n",
    "lr.fit(X_train, y_train)\n",
    "# predict on test-set\n",
    "y_pred_lr = lr.predict(X_test)\n",
    "y_pred_train_lr = lr.predict(X_train)\n",
    "\n",
    "# RMSE on train and test set\n",
    "print(\"Train RMSE:\", metric(y_train, y_pred_train_lr))\n",
    "print(\"Test RMSE:\", metric(y_test, y_pred_lr))\n",
    "RMSE_train.append(metric(y_train, y_pred_train_lr))\n",
    "RMSE_test.append(metric(y_test, y_pred_lr))"
   ]
  },
  {
   "cell_type": "code",
   "execution_count": 14,
   "id": "4a9090c2-97f5-4f13-af37-7558b67909cb",
   "metadata": {},
   "outputs": [
    {
     "data": {
      "text/html": [
       "<div>\n",
       "<style scoped>\n",
       "    .dataframe tbody tr th:only-of-type {\n",
       "        vertical-align: middle;\n",
       "    }\n",
       "\n",
       "    .dataframe tbody tr th {\n",
       "        vertical-align: top;\n",
       "    }\n",
       "\n",
       "    .dataframe thead th {\n",
       "        text-align: right;\n",
       "    }\n",
       "</style>\n",
       "<table border=\"1\" class=\"dataframe\">\n",
       "  <thead>\n",
       "    <tr style=\"text-align: right;\">\n",
       "      <th></th>\n",
       "      <th>max_temp</th>\n",
       "      <th>min_temp</th>\n",
       "      <th>mean_temp</th>\n",
       "      <th>std_temp</th>\n",
       "      <th>var_temp</th>\n",
       "      <th>median_temp</th>\n",
       "      <th>ptp_temp</th>\n",
       "      <th>max_precip</th>\n",
       "      <th>min_precip</th>\n",
       "      <th>mean_precip</th>\n",
       "      <th>...</th>\n",
       "      <th>min_atmos_press</th>\n",
       "      <th>mean_atmos_press</th>\n",
       "      <th>std_atmos_press</th>\n",
       "      <th>var_atmos_press</th>\n",
       "      <th>median_atmos_press</th>\n",
       "      <th>ptp_atmos_press</th>\n",
       "      <th>location_B</th>\n",
       "      <th>location_C</th>\n",
       "      <th>location_D</th>\n",
       "      <th>location_E</th>\n",
       "    </tr>\n",
       "  </thead>\n",
       "  <tbody>\n",
       "    <tr>\n",
       "      <th>0</th>\n",
       "      <td>-0.119491</td>\n",
       "      <td>-0.301586</td>\n",
       "      <td>-1.251269</td>\n",
       "      <td>-0.213851</td>\n",
       "      <td>-0.306272</td>\n",
       "      <td>-1.241651</td>\n",
       "      <td>0.027288</td>\n",
       "      <td>1.055602</td>\n",
       "      <td>0.0</td>\n",
       "      <td>1.186259</td>\n",
       "      <td>...</td>\n",
       "      <td>-0.649519</td>\n",
       "      <td>-0.640568</td>\n",
       "      <td>-0.344794</td>\n",
       "      <td>-0.390931</td>\n",
       "      <td>-0.630792</td>\n",
       "      <td>-0.708499</td>\n",
       "      <td>-0.228530</td>\n",
       "      <td>-0.355391</td>\n",
       "      <td>-0.693752</td>\n",
       "      <td>-0.480281</td>\n",
       "    </tr>\n",
       "    <tr>\n",
       "      <th>1</th>\n",
       "      <td>-0.258783</td>\n",
       "      <td>1.153268</td>\n",
       "      <td>0.394965</td>\n",
       "      <td>-0.669900</td>\n",
       "      <td>-0.708628</td>\n",
       "      <td>0.751773</td>\n",
       "      <td>-0.750969</td>\n",
       "      <td>-0.878023</td>\n",
       "      <td>0.0</td>\n",
       "      <td>-0.811868</td>\n",
       "      <td>...</td>\n",
       "      <td>-0.317127</td>\n",
       "      <td>-0.412904</td>\n",
       "      <td>-1.182264</td>\n",
       "      <td>-1.104104</td>\n",
       "      <td>-0.429055</td>\n",
       "      <td>-1.165069</td>\n",
       "      <td>4.375784</td>\n",
       "      <td>-0.355391</td>\n",
       "      <td>-0.693752</td>\n",
       "      <td>-0.480281</td>\n",
       "    </tr>\n",
       "    <tr>\n",
       "      <th>2</th>\n",
       "      <td>0.101053</td>\n",
       "      <td>0.802488</td>\n",
       "      <td>0.737665</td>\n",
       "      <td>0.040781</td>\n",
       "      <td>-0.063004</td>\n",
       "      <td>1.056649</td>\n",
       "      <td>-0.268570</td>\n",
       "      <td>-0.878023</td>\n",
       "      <td>0.0</td>\n",
       "      <td>-0.811868</td>\n",
       "      <td>...</td>\n",
       "      <td>-1.223868</td>\n",
       "      <td>-1.227660</td>\n",
       "      <td>-0.386949</td>\n",
       "      <td>-0.429148</td>\n",
       "      <td>-1.226766</td>\n",
       "      <td>-0.207702</td>\n",
       "      <td>-0.228530</td>\n",
       "      <td>2.813806</td>\n",
       "      <td>-0.693752</td>\n",
       "      <td>-0.480281</td>\n",
       "    </tr>\n",
       "    <tr>\n",
       "      <th>3</th>\n",
       "      <td>0.217129</td>\n",
       "      <td>0.116517</td>\n",
       "      <td>-0.750164</td>\n",
       "      <td>-0.134601</td>\n",
       "      <td>-0.231989</td>\n",
       "      <td>-1.065760</td>\n",
       "      <td>0.143915</td>\n",
       "      <td>1.034382</td>\n",
       "      <td>0.0</td>\n",
       "      <td>1.175778</td>\n",
       "      <td>...</td>\n",
       "      <td>1.286132</td>\n",
       "      <td>1.279767</td>\n",
       "      <td>0.720970</td>\n",
       "      <td>0.656877</td>\n",
       "      <td>1.269548</td>\n",
       "      <td>1.087838</td>\n",
       "      <td>-0.228530</td>\n",
       "      <td>-0.355391</td>\n",
       "      <td>1.441437</td>\n",
       "      <td>-0.480281</td>\n",
       "    </tr>\n",
       "    <tr>\n",
       "      <th>4</th>\n",
       "      <td>-0.432897</td>\n",
       "      <td>-0.694176</td>\n",
       "      <td>-0.949588</td>\n",
       "      <td>-0.329681</td>\n",
       "      <td>-0.412518</td>\n",
       "      <td>-0.819514</td>\n",
       "      <td>-0.079806</td>\n",
       "      <td>2.634441</td>\n",
       "      <td>0.0</td>\n",
       "      <td>1.179987</td>\n",
       "      <td>...</td>\n",
       "      <td>-1.158817</td>\n",
       "      <td>-1.168014</td>\n",
       "      <td>-0.910794</td>\n",
       "      <td>-0.883547</td>\n",
       "      <td>-1.181337</td>\n",
       "      <td>-0.536350</td>\n",
       "      <td>-0.228530</td>\n",
       "      <td>2.813806</td>\n",
       "      <td>-0.693752</td>\n",
       "      <td>-0.480281</td>\n",
       "    </tr>\n",
       "    <tr>\n",
       "      <th>...</th>\n",
       "      <td>...</td>\n",
       "      <td>...</td>\n",
       "      <td>...</td>\n",
       "      <td>...</td>\n",
       "      <td>...</td>\n",
       "      <td>...</td>\n",
       "      <td>...</td>\n",
       "      <td>...</td>\n",
       "      <td>...</td>\n",
       "      <td>...</td>\n",
       "      <td>...</td>\n",
       "      <td>...</td>\n",
       "      <td>...</td>\n",
       "      <td>...</td>\n",
       "      <td>...</td>\n",
       "      <td>...</td>\n",
       "      <td>...</td>\n",
       "      <td>...</td>\n",
       "      <td>...</td>\n",
       "      <td>...</td>\n",
       "      <td>...</td>\n",
       "    </tr>\n",
       "    <tr>\n",
       "      <th>12426</th>\n",
       "      <td>0.186175</td>\n",
       "      <td>-1.091728</td>\n",
       "      <td>-0.755325</td>\n",
       "      <td>-0.233629</td>\n",
       "      <td>-0.324609</td>\n",
       "      <td>-0.567404</td>\n",
       "      <td>0.657774</td>\n",
       "      <td>2.091272</td>\n",
       "      <td>0.0</td>\n",
       "      <td>1.360866</td>\n",
       "      <td>...</td>\n",
       "      <td>1.316277</td>\n",
       "      <td>1.360629</td>\n",
       "      <td>1.068475</td>\n",
       "      <td>1.032480</td>\n",
       "      <td>1.348858</td>\n",
       "      <td>1.858766</td>\n",
       "      <td>-0.228530</td>\n",
       "      <td>-0.355391</td>\n",
       "      <td>1.441437</td>\n",
       "      <td>-0.480281</td>\n",
       "    </tr>\n",
       "    <tr>\n",
       "      <th>12427</th>\n",
       "      <td>-1.051969</td>\n",
       "      <td>0.295804</td>\n",
       "      <td>-1.403314</td>\n",
       "      <td>-1.716287</td>\n",
       "      <td>-1.470106</td>\n",
       "      <td>-1.335459</td>\n",
       "      <td>-1.083055</td>\n",
       "      <td>2.236240</td>\n",
       "      <td>0.0</td>\n",
       "      <td>3.059996</td>\n",
       "      <td>...</td>\n",
       "      <td>-1.217522</td>\n",
       "      <td>-1.197951</td>\n",
       "      <td>-0.924549</td>\n",
       "      <td>-0.894968</td>\n",
       "      <td>-1.205207</td>\n",
       "      <td>-0.566289</td>\n",
       "      <td>-0.228530</td>\n",
       "      <td>2.813806</td>\n",
       "      <td>-0.693752</td>\n",
       "      <td>-0.480281</td>\n",
       "    </tr>\n",
       "    <tr>\n",
       "      <th>12428</th>\n",
       "      <td>-0.378728</td>\n",
       "      <td>-0.031591</td>\n",
       "      <td>-0.577785</td>\n",
       "      <td>-0.507662</td>\n",
       "      <td>-0.570395</td>\n",
       "      <td>-0.450144</td>\n",
       "      <td>-0.327996</td>\n",
       "      <td>-0.863299</td>\n",
       "      <td>0.0</td>\n",
       "      <td>-0.799171</td>\n",
       "      <td>...</td>\n",
       "      <td>-0.417082</td>\n",
       "      <td>-0.477310</td>\n",
       "      <td>-1.372857</td>\n",
       "      <td>-1.252863</td>\n",
       "      <td>-0.467554</td>\n",
       "      <td>-1.674031</td>\n",
       "      <td>-0.228530</td>\n",
       "      <td>-0.355391</td>\n",
       "      <td>-0.693752</td>\n",
       "      <td>-0.480281</td>\n",
       "    </tr>\n",
       "    <tr>\n",
       "      <th>12429</th>\n",
       "      <td>-1.268644</td>\n",
       "      <td>0.482887</td>\n",
       "      <td>-0.549866</td>\n",
       "      <td>-1.158439</td>\n",
       "      <td>-1.092182</td>\n",
       "      <td>-0.315295</td>\n",
       "      <td>-1.362706</td>\n",
       "      <td>0.483743</td>\n",
       "      <td>0.0</td>\n",
       "      <td>1.279733</td>\n",
       "      <td>...</td>\n",
       "      <td>-0.467854</td>\n",
       "      <td>-0.519049</td>\n",
       "      <td>-0.541849</td>\n",
       "      <td>-0.567464</td>\n",
       "      <td>-0.524534</td>\n",
       "      <td>-0.581259</td>\n",
       "      <td>-0.228530</td>\n",
       "      <td>-0.355391</td>\n",
       "      <td>-0.693752</td>\n",
       "      <td>2.082113</td>\n",
       "    </tr>\n",
       "    <tr>\n",
       "      <th>12430</th>\n",
       "      <td>0.747210</td>\n",
       "      <td>0.194468</td>\n",
       "      <td>0.658145</td>\n",
       "      <td>0.520843</td>\n",
       "      <td>0.431911</td>\n",
       "      <td>0.388266</td>\n",
       "      <td>0.587862</td>\n",
       "      <td>0.448232</td>\n",
       "      <td>0.0</td>\n",
       "      <td>-0.123516</td>\n",
       "      <td>...</td>\n",
       "      <td>-0.672525</td>\n",
       "      <td>-0.690276</td>\n",
       "      <td>-0.086152</td>\n",
       "      <td>-0.151078</td>\n",
       "      <td>-0.667752</td>\n",
       "      <td>-0.573774</td>\n",
       "      <td>-0.228530</td>\n",
       "      <td>-0.355391</td>\n",
       "      <td>-0.693752</td>\n",
       "      <td>-0.480281</td>\n",
       "    </tr>\n",
       "  </tbody>\n",
       "</table>\n",
       "<p>12431 rows × 46 columns</p>\n",
       "</div>"
      ],
      "text/plain": [
       "       max_temp  min_temp  mean_temp  std_temp  var_temp  median_temp  \\\n",
       "0     -0.119491 -0.301586  -1.251269 -0.213851 -0.306272    -1.241651   \n",
       "1     -0.258783  1.153268   0.394965 -0.669900 -0.708628     0.751773   \n",
       "2      0.101053  0.802488   0.737665  0.040781 -0.063004     1.056649   \n",
       "3      0.217129  0.116517  -0.750164 -0.134601 -0.231989    -1.065760   \n",
       "4     -0.432897 -0.694176  -0.949588 -0.329681 -0.412518    -0.819514   \n",
       "...         ...       ...        ...       ...       ...          ...   \n",
       "12426  0.186175 -1.091728  -0.755325 -0.233629 -0.324609    -0.567404   \n",
       "12427 -1.051969  0.295804  -1.403314 -1.716287 -1.470106    -1.335459   \n",
       "12428 -0.378728 -0.031591  -0.577785 -0.507662 -0.570395    -0.450144   \n",
       "12429 -1.268644  0.482887  -0.549866 -1.158439 -1.092182    -0.315295   \n",
       "12430  0.747210  0.194468   0.658145  0.520843  0.431911     0.388266   \n",
       "\n",
       "       ptp_temp  max_precip  min_precip  mean_precip  ...  min_atmos_press  \\\n",
       "0      0.027288    1.055602         0.0     1.186259  ...        -0.649519   \n",
       "1     -0.750969   -0.878023         0.0    -0.811868  ...        -0.317127   \n",
       "2     -0.268570   -0.878023         0.0    -0.811868  ...        -1.223868   \n",
       "3      0.143915    1.034382         0.0     1.175778  ...         1.286132   \n",
       "4     -0.079806    2.634441         0.0     1.179987  ...        -1.158817   \n",
       "...         ...         ...         ...          ...  ...              ...   \n",
       "12426  0.657774    2.091272         0.0     1.360866  ...         1.316277   \n",
       "12427 -1.083055    2.236240         0.0     3.059996  ...        -1.217522   \n",
       "12428 -0.327996   -0.863299         0.0    -0.799171  ...        -0.417082   \n",
       "12429 -1.362706    0.483743         0.0     1.279733  ...        -0.467854   \n",
       "12430  0.587862    0.448232         0.0    -0.123516  ...        -0.672525   \n",
       "\n",
       "       mean_atmos_press  std_atmos_press  var_atmos_press  median_atmos_press  \\\n",
       "0             -0.640568        -0.344794        -0.390931           -0.630792   \n",
       "1             -0.412904        -1.182264        -1.104104           -0.429055   \n",
       "2             -1.227660        -0.386949        -0.429148           -1.226766   \n",
       "3              1.279767         0.720970         0.656877            1.269548   \n",
       "4             -1.168014        -0.910794        -0.883547           -1.181337   \n",
       "...                 ...              ...              ...                 ...   \n",
       "12426          1.360629         1.068475         1.032480            1.348858   \n",
       "12427         -1.197951        -0.924549        -0.894968           -1.205207   \n",
       "12428         -0.477310        -1.372857        -1.252863           -0.467554   \n",
       "12429         -0.519049        -0.541849        -0.567464           -0.524534   \n",
       "12430         -0.690276        -0.086152        -0.151078           -0.667752   \n",
       "\n",
       "       ptp_atmos_press  location_B  location_C  location_D  location_E  \n",
       "0            -0.708499   -0.228530   -0.355391   -0.693752   -0.480281  \n",
       "1            -1.165069    4.375784   -0.355391   -0.693752   -0.480281  \n",
       "2            -0.207702   -0.228530    2.813806   -0.693752   -0.480281  \n",
       "3             1.087838   -0.228530   -0.355391    1.441437   -0.480281  \n",
       "4            -0.536350   -0.228530    2.813806   -0.693752   -0.480281  \n",
       "...                ...         ...         ...         ...         ...  \n",
       "12426         1.858766   -0.228530   -0.355391    1.441437   -0.480281  \n",
       "12427        -0.566289   -0.228530    2.813806   -0.693752   -0.480281  \n",
       "12428        -1.674031   -0.228530   -0.355391   -0.693752   -0.480281  \n",
       "12429        -0.581259   -0.228530   -0.355391   -0.693752    2.082113  \n",
       "12430        -0.573774   -0.228530   -0.355391   -0.693752   -0.480281  \n",
       "\n",
       "[12431 rows x 46 columns]"
      ]
     },
     "execution_count": 14,
     "metadata": {},
     "output_type": "execute_result"
    }
   ],
   "source": [
    "pd.DataFrame(X_train)"
   ]
  },
  {
   "cell_type": "markdown",
   "id": "501644b8-d1c1-4a8d-85c2-7a6f60f6e214",
   "metadata": {},
   "source": [
    "## KNN"
   ]
  },
  {
   "cell_type": "code",
   "execution_count": 15,
   "id": "711cd227-e4d3-464a-8b1a-7df8da072249",
   "metadata": {},
   "outputs": [
    {
     "name": "stdout",
     "output_type": "stream",
     "text": [
      "Train RMSE: 24.639\n",
      "Test RMSE: 31.202\n"
     ]
    }
   ],
   "source": [
    "knn = KNeighborsRegressor()\n",
    "knn = knn.fit(X_train, y_train)\n",
    "# predict on test-set\n",
    "y_pred_knn = knn.predict(X_test)\n",
    "y_pred_train_knn = knn.predict(X_train)\n",
    "\n",
    "# RMSE on train and test set\n",
    "print(\"Train RMSE:\", metric(y_train, y_pred_train_knn))\n",
    "print(\"Test RMSE:\", metric(y_test, y_pred_knn))\n",
    "RMSE_train.append(metric(y_train, y_pred_train_knn))\n",
    "RMSE_test.append(metric(y_test, y_pred_knn))\n"
   ]
  },
  {
   "cell_type": "markdown",
   "id": "cfc183b5-6dd7-4da6-b893-9b50efb62d03",
   "metadata": {},
   "source": [
    "## Random Forest Regressor"
   ]
  },
  {
   "cell_type": "code",
   "execution_count": 16,
   "id": "5784b8cf-32f2-454f-91b0-ecca524ca941",
   "metadata": {},
   "outputs": [
    {
     "name": "stdout",
     "output_type": "stream",
     "text": [
      "Train RMSE: 11.544\n",
      "Test RMSE: 26.691\n"
     ]
    }
   ],
   "source": [
    "rfr = RandomForestRegressor()\n",
    "rfr = rfr.fit(X_train, y_train)\n",
    "\n",
    "# predict on test-set\n",
    "y_pred_rfr = rfr.predict(X_test)\n",
    "y_pred_train_rfr = rfr.predict(X_train)\n",
    "\n",
    "# RMSE on train and test set\n",
    "print(\"Train RMSE:\", metric(y_train, y_pred_train_rfr))\n",
    "print(\"Test RMSE:\", metric(y_test, y_pred_rfr))\n",
    "RMSE_train.append(metric(y_train, y_pred_train_rfr))\n",
    "RMSE_test.append(metric(y_test, y_pred_rfr))"
   ]
  },
  {
   "cell_type": "code",
   "execution_count": 38,
   "id": "96cde063-26b6-40a7-b572-9619ca3bc005",
   "metadata": {},
   "outputs": [
    {
     "data": {
      "text/plain": [
       "<AxesSubplot:>"
      ]
     },
     "execution_count": 38,
     "metadata": {},
     "output_type": "execute_result"
    },
    {
     "data": {
      "image/png": "[encoded data removed]",
      "text/plain": [
       "<Figure size 1080x720 with 1 Axes>"
      ]
     },
     "metadata": {
      "needs_background": "light"
     },
     "output_type": "display_data"
    }
   ],
   "source": [
    "importances = rfr.feature_importances_\n",
    "forest_importances = pd.Series(importances)\n",
    "fi = pd.DataFrame(forest_importances)\n",
    "fi = fi.set_index(columns[1:])\n",
    "fi.plot.bar(figsize=(15,10))\n"
   ]
  },
  {
   "cell_type": "code",
   "execution_count": 17,
   "id": "fffd04ea-aff1-4378-9767-e9eac50f844d",
   "metadata": {},
   "outputs": [
    {
     "name": "stderr",
     "output_type": "stream",
     "text": [
      "/Users/jonigul/neuefische/AirQo-Ugandan-Air-Quality-Forecast-Challenge/.venv/lib/python3.9/site-packages/pandas/core/indexing.py:1684: SettingWithCopyWarning: \n",
      "A value is trying to be set on a copy of a slice from a DataFrame.\n",
      "Try using .loc[row_indexer,col_indexer] = value instead\n",
      "\n",
      "See the caveats in the documentation: https://pandas.pydata.org/pandas-docs/stable/user_guide/indexing.html#returning-a-view-versus-a-copy\n",
      "  self.obj[key] = infer_fill_value(value)\n",
      "/Users/jonigul/neuefische/AirQo-Ugandan-Air-Quality-Forecast-Challenge/.venv/lib/python3.9/site-packages/pandas/core/indexing.py:1817: SettingWithCopyWarning: \n",
      "A value is trying to be set on a copy of a slice from a DataFrame.\n",
      "Try using .loc[row_indexer,col_indexer] = value instead\n",
      "\n",
      "See the caveats in the documentation: https://pandas.pydata.org/pandas-docs/stable/user_guide/indexing.html#returning-a-view-versus-a-copy\n",
      "  self._setitem_single_column(loc, value, pi)\n",
      "/Users/jonigul/neuefische/AirQo-Ugandan-Air-Quality-Forecast-Challenge/.venv/lib/python3.9/site-packages/pandas/core/generic.py:5516: SettingWithCopyWarning: \n",
      "A value is trying to be set on a copy of a slice from a DataFrame.\n",
      "Try using .loc[row_indexer,col_indexer] = value instead\n",
      "\n",
      "See the caveats in the documentation: https://pandas.pydata.org/pandas-docs/stable/user_guide/indexing.html#returning-a-view-versus-a-copy\n",
      "  self[name] = value\n"
     ]
    }
   ],
   "source": [
    "location = X_test[['location_B','location_C','location_D','location_E']]\n",
    "#loc = X_test[['location_B','location_C','location_D','location_E']].idxmax(axis=1)\n",
    "\n",
    "location.loc[(location['location_B'] == 0) & (location['location_C'] == 0) & (location['location_D'] == 0) & (location['location_E'] == 0), 'location_A'] = 1\n",
    "location.location_A = location.location_A.fillna(0)\n",
    "location = location.idxmax(axis=1)\n"
   ]
  },
  {
   "cell_type": "code",
   "execution_count": 18,
   "id": "0ee7759f-1044-478f-8acb-545d6aa16eff",
   "metadata": {},
   "outputs": [
    {
     "data": {
      "text/plain": [
       "[Text(0, 0.5, 'Residuals')]"
      ]
     },
     "execution_count": 18,
     "metadata": {},
     "output_type": "execute_result"
    },
    {
     "data": {
      "image/png": "[encoded data removed]",
      "text/plain": [
       "<Figure size 432x288 with 1 Axes>"
      ]
     },
     "metadata": {
      "needs_background": "light"
     },
     "output_type": "display_data"
    }
   ],
   "source": [
    "residuen = abs(y_pred_rfr - y_test)\n",
    "sns.scatterplot(x=y_test ,y=residuen, hue= location).set(ylabel='Residuals')"
   ]
  },
  {
   "cell_type": "code",
   "execution_count": 19,
   "id": "a2fa636f-2c12-4460-a0c0-7b486b66d10d",
   "metadata": {},
   "outputs": [
    {
     "data": {
      "text/plain": [
       "(3108,)"
      ]
     },
     "execution_count": 19,
     "metadata": {},
     "output_type": "execute_result"
    }
   ],
   "source": [
    "residuen.shape"
   ]
  },
  {
   "cell_type": "code",
   "execution_count": 20,
   "id": "6e2e0964-46b4-4d2b-a087-b7792af24104",
   "metadata": {},
   "outputs": [],
   "source": [
    "#X, y = make_regression(n_features=48)\n",
    "#rfr_b = RandomForestRegressor(random_state=42)\n",
    "#rfr_b.fit(X, y)\n",
    "#y_pred_rfr_b = rfr_b.predict(X_test)\n",
    "#y_pred_train_rfr_b = rfr_b.predict(X_train)\n",
    "#print(\"Train RMSE:\", metric(y_train, y_pred_train_rfr_b))\n",
    "#print(\"Test RMSE:\", metric(y_test, y_pred_rfr_b))\n",
    "#RSME_train.append(metric(y_train, y_pred_train_rfr_b))\n",
    "#RSME_test.append(metric(y_test, y_pred_rfr_b))"
   ]
  },
  {
   "cell_type": "markdown",
   "id": "c682bf9c-3b1b-4266-b499-70ae757528df",
   "metadata": {},
   "source": [
    "## Support Vector Machine"
   ]
  },
  {
   "cell_type": "code",
   "execution_count": 21,
   "id": "307278c4-021e-4c22-813d-158d4449c6d8",
   "metadata": {},
   "outputs": [
    {
     "name": "stdout",
     "output_type": "stream",
     "text": [
      "Train RMSE: 39.455\n",
      "Test RMSE: 41.564\n"
     ]
    }
   ],
   "source": [
    "svr = SVR()\n",
    "svr = svr.fit(X_train, y_train)\n",
    "\n",
    "# predict on test-set\n",
    "y_pred_svr = svr.predict(X_test)\n",
    "y_pred_train_svr = svr.predict(X_train)\n",
    "\n",
    "# RMSE on train and test set\n",
    "print(\"Train RMSE:\", metric(y_train, y_pred_train_svr))\n",
    "print(\"Test RMSE:\", metric(y_test, y_pred_svr))\n",
    "RMSE_train.append(metric(y_train, y_pred_train_svr))\n",
    "RMSE_test.append(metric(y_test, y_pred_svr))"
   ]
  },
  {
   "cell_type": "code",
   "execution_count": 22,
   "id": "aafb9bd7-eaf3-4573-931c-aa8bf782bc4a",
   "metadata": {
    "tags": []
   },
   "outputs": [
    {
     "data": {
      "text/plain": [
       "<AxesSubplot:xlabel='Model'>"
      ]
     },
     "execution_count": 22,
     "metadata": {},
     "output_type": "execute_result"
    },
    {
     "data": {
      "image/png": "[encoded data removed]",
      "text/plain": [
       "<Figure size 432x288 with 1 Axes>"
      ]
     },
     "metadata": {
      "needs_background": "light"
     },
     "output_type": "display_data"
    }
   ],
   "source": [
    "RMSE = {'RMSE_train': RMSE_train, 'RMSE_test': RMSE_test, 'Model':['Linear Regression', 'KNN','Random Forest','SVR']}\n",
    "baseline = pd.DataFrame(RMSE)\n",
    "baseline = baseline.set_index('Model')\n",
    "baseline.plot.bar()\n"
   ]
  },
  {
   "cell_type": "code",
   "execution_count": null,
   "id": "c3ec2fea-ef16-4940-a99e-998498c14ab7",
   "metadata": {},
   "outputs": [],
   "source": []
  }
 ],
 "metadata": {
  "kernelspec": {
   "display_name": "Python 3 (ipykernel)",
   "language": "python",
   "name": "python3"
  },
  "language_info": {
   "codemirror_mode": {
    "name": "ipython",
    "version": 3
   },
   "file_extension": ".py",
   "mimetype": "text/x-python",
   "name": "python",
   "nbconvert_exporter": "python",
   "pygments_lexer": "ipython3",
   "version": "3.9.4"
  }
 },
 "nbformat": 4,
 "nbformat_minor": 5
}
