{
 "cells": [
  {
   "cell_type": "code",
   "execution_count": null,
   "id": "32d63104-bfe5-44d5-b412-68abe7dcfe26",
   "metadata": {},
   "outputs": [],
   "source": [
    "import pandas as pd \n",
    "import numpy as np \n",
    "import matplotlib.pyplot as plt\n",
    "import plotly.express as px\n",
    "import math\n",
    "import gc\n",
    "import seaborn as sns\n",
    "#import lightgbm as lgbm \n",
    "#import xgboost as xgb\n",
    "\n",
    "from tqdm import tqdm\n",
    "from sklearn.linear_model import LinearRegression\n",
    "#from sklearn.linear_model import LogisticRegression\n",
    "from sklearn.model_selection import train_test_split\n",
    "from sklearn.metrics import mean_squared_error, r2_score\n",
    "from sklearn.tree import DecisionTreeClassifier\n",
    "from sklearn.neighbors import KNeighborsRegressor\n",
    "from sklearn.ensemble import RandomForestRegressor\n",
    "from sklearn.datasets import make_regression\n",
    "from sklearn.svm import SVR\n",
    "from sklearn.preprocessing import MinMaxScaler,PolynomialFeatures\n",
    "from sklearn.preprocessing import StandardScaler\n",
    "\n",
    "#import catboost as cat"
   ]
  },
  {
   "cell_type": "code",
   "execution_count": null,
   "id": "ba4dee11-0537-453d-abd4-d69ffb9db391",
   "metadata": {},
   "outputs": [],
   "source": [
    "df = pd.read_csv('./data/df_stat.csv')"
   ]
  },
  {
   "cell_type": "code",
   "execution_count": null,
   "id": "dbfdf5f9-828d-4b06-b9d5-a2166c641c75",
   "metadata": {},
   "outputs": [],
   "source": [
    "from sklearn.metrics import mean_squared_error\n",
    "def metric(y,x):\n",
    "    return round(np.sqrt(mean_squared_error(x,y)),3)"
   ]
  },
  {
   "cell_type": "code",
   "execution_count": null,
   "id": "b6b446d3-b6fb-471a-add4-d9b5c213abec",
   "metadata": {},
   "outputs": [],
   "source": [
    "df = pd.get_dummies(df, columns=['location'], drop_first=True)"
   ]
  },
  {
   "cell_type": "code",
   "execution_count": null,
   "id": "5b13b16e-7688-4208-8caa-3e0568063f38",
   "metadata": {},
   "outputs": [],
   "source": [
    "df.head(1)"
   ]
  },
  {
   "cell_type": "code",
   "execution_count": null,
   "id": "62a0ba33-a387-4359-ad82-b7ee48d47289",
   "metadata": {},
   "outputs": [],
   "source": [
    "RMSE_train = []\n",
    "RMSE_test = []"
   ]
  },
  {
   "cell_type": "code",
   "execution_count": null,
   "id": "956d2bc7-51da-429c-806a-62d7b1820e6b",
   "metadata": {},
   "outputs": [],
   "source": [
    "X = df.drop(['target', 'ID'], axis=1)\n",
    "y = df.target"
   ]
  },
  {
   "cell_type": "code",
   "execution_count": null,
   "id": "5e291429-0fd0-4cb3-9e5e-6dcf1a1c319d",
   "metadata": {},
   "outputs": [],
   "source": [
    "X_train, X_test, y_train, y_test = train_test_split(X, y, test_size = 0.2, random_state = 42)"
   ]
  },
  {
   "cell_type": "code",
   "execution_count": null,
   "id": "56b74fe5-1fdc-4db1-8a58-7477d5adf5f9",
   "metadata": {},
   "outputs": [],
   "source": [
    "columns = X_train.columns\n",
    "columns"
   ]
  },
  {
   "cell_type": "code",
   "execution_count": null,
   "id": "ef1ae9f7-48e9-4545-8d99-90c1f4340a66",
   "metadata": {},
   "outputs": [],
   "source": [
    "scalerStand = StandardScaler()\n",
    "X_train = scalerStand.fit_transform(X_train)\n",
    "X_test = scalerStand.transform(X_test)"
   ]
  },
  {
   "cell_type": "markdown",
   "id": "de9ba4b0-b7eb-4e15-ba9b-9fa601ea58b4",
   "metadata": {},
   "source": [
    "scalerMinMax = MinMaxScaler()\n",
    "X_train = scalerMinMax.fit_transform(X_train)\n",
    "X_test = scalerMinMax.transform(X_test)"
   ]
  },
  {
   "cell_type": "code",
   "execution_count": null,
   "id": "8625d33e-f0dc-410c-bfd4-e199d9994a80",
   "metadata": {},
   "outputs": [],
   "source": [
    "# scaled X_train data to pandas Dataframe\n",
    "X_train = pd.DataFrame(X_train)\n",
    "X_train.columns = columns\n",
    "X_train.drop('Unnamed: 0', axis=1, inplace=True)"
   ]
  },
  {
   "cell_type": "code",
   "execution_count": null,
   "id": "69b5560f-7a67-490d-8a64-3068b89c278a",
   "metadata": {},
   "outputs": [],
   "source": [
    "# scaled X_test data to pandas Dataframe\n",
    "X_test = pd.DataFrame(X_test)\n",
    "X_test.columns = columns\n",
    "X_test.drop('Unnamed: 0', axis=1, inplace=True)"
   ]
  },
  {
   "cell_type": "code",
   "execution_count": null,
   "id": "89122a9b-c149-46b7-a326-f761d9124404",
   "metadata": {},
   "outputs": [],
   "source": [
    "lr = LinearRegression()\n",
    "lr.fit(X_train, y_train)\n",
    "# predict on test-set\n",
    "y_pred_lr = lr.predict(X_test)\n",
    "y_pred_train_lr = lr.predict(X_train)\n",
    "\n",
    "# RMSE on train and test set\n",
    "print(\"Train RMSE:\", metric(y_train, y_pred_train_lr))\n",
    "print(\"Test RMSE:\", metric(y_test, y_pred_lr))\n",
    "RMSE_train.append(metric(y_train, y_pred_train_lr))\n",
    "RMSE_test.append(metric(y_test, y_pred_lr))"
   ]
  },
  {
   "cell_type": "code",
   "execution_count": null,
   "id": "4a9090c2-97f5-4f13-af37-7558b67909cb",
   "metadata": {},
   "outputs": [],
   "source": [
    "pd.DataFrame(X_train)"
   ]
  },
  {
   "cell_type": "markdown",
   "id": "501644b8-d1c1-4a8d-85c2-7a6f60f6e214",
   "metadata": {},
   "source": [
    "## KNN"
   ]
  },
  {
   "cell_type": "code",
   "execution_count": null,
   "id": "711cd227-e4d3-464a-8b1a-7df8da072249",
   "metadata": {},
   "outputs": [],
   "source": [
    "knn = KNeighborsRegressor()\n",
    "knn = knn.fit(X_train, y_train)\n",
    "# predict on test-set\n",
    "y_pred_knn = knn.predict(X_test)\n",
    "y_pred_train_knn = knn.predict(X_train)\n",
    "\n",
    "# RMSE on train and test set\n",
    "print(\"Train RMSE:\", metric(y_train, y_pred_train_knn))\n",
    "print(\"Test RMSE:\", metric(y_test, y_pred_knn))\n",
    "RMSE_train.append(metric(y_train, y_pred_train_knn))\n",
    "RMSE_test.append(metric(y_test, y_pred_knn))\n"
   ]
  },
  {
   "cell_type": "markdown",
   "id": "cfc183b5-6dd7-4da6-b893-9b50efb62d03",
   "metadata": {},
   "source": [
    "## Random Forest Regressor"
   ]
  },
  {
   "cell_type": "code",
   "execution_count": null,
   "id": "5784b8cf-32f2-454f-91b0-ecca524ca941",
   "metadata": {},
   "outputs": [],
   "source": [
    "rfr = RandomForestRegressor()\n",
    "rfr = rfr.fit(X_train, y_train)\n",
    "\n",
    "# predict on test-set\n",
    "y_pred_rfr = rfr.predict(X_test)\n",
    "y_pred_train_rfr = rfr.predict(X_train)\n",
    "\n",
    "# RMSE on train and test set\n",
    "print(\"Train RMSE:\", metric(y_train, y_pred_train_rfr))\n",
    "print(\"Test RMSE:\", metric(y_test, y_pred_rfr))\n",
    "RMSE_train.append(metric(y_train, y_pred_train_rfr))\n",
    "RMSE_test.append(metric(y_test, y_pred_rfr))"
   ]
  },
  {
   "cell_type": "code",
   "execution_count": null,
   "id": "96cde063-26b6-40a7-b572-9619ca3bc005",
   "metadata": {},
   "outputs": [],
   "source": [
    "importances = rfr.feature_importances_\n",
    "forest_importances = pd.Series(importances)\n",
    "fi = pd.DataFrame(forest_importances)\n",
    "fi = fi.set_index(columns[1:])\n",
    "fi.plot.bar(figsize=(15,10))\n"
   ]
  },
  {
   "cell_type": "code",
   "execution_count": null,
   "id": "579b4a18-9b54-44f7-ab20-a497133d417b",
   "metadata": {},
   "outputs": [],
   "source": [
    "\n",
    "fi_sort = fi.reset_index()\n",
    "fi_sort.columns =['feature', 'importance']\n",
    "fi_sort = fi_sort.sort_values('importance', ascending=False)\n",
    "feat = fi_sort.feature.to_list()\n",
    "feat"
   ]
  },
  {
   "cell_type": "code",
   "execution_count": null,
   "id": "fffd04ea-aff1-4378-9767-e9eac50f844d",
   "metadata": {},
   "outputs": [],
   "source": [
    "location = X_test[['location_B','location_C','location_D','location_E']]\n",
    "#loc = X_test[['location_B','location_C','location_D','location_E']].idxmax(axis=1)\n",
    "\n",
    "location.loc[(location['location_B'] == 0) & (location['location_C'] == 0) & (location['location_D'] == 0) & (location['location_E'] == 0), 'location_A'] = 1\n",
    "location.location_A = location.location_A.fillna(0)\n",
    "location = location.idxmax(axis=1)\n"
   ]
  },
  {
   "cell_type": "code",
   "execution_count": null,
   "id": "0ee7759f-1044-478f-8acb-545d6aa16eff",
   "metadata": {},
   "outputs": [],
   "source": [
    "residuen = y_pred_rfr - y_test\n",
    "sns.scatterplot(x=y_test ,y=residuen, hue= location).set(ylabel='Residuals')"
   ]
  },
  {
   "cell_type": "code",
   "execution_count": null,
   "id": "a2fa636f-2c12-4460-a0c0-7b486b66d10d",
   "metadata": {},
   "outputs": [],
   "source": [
    "residuen.shape"
   ]
  },
  {
   "cell_type": "code",
   "execution_count": null,
   "id": "6e2e0964-46b4-4d2b-a087-b7792af24104",
   "metadata": {},
   "outputs": [],
   "source": [
    "#X, y = make_regression(n_features=48)\n",
    "#rfr_b = RandomForestRegressor(random_state=42)\n",
    "#rfr_b.fit(X, y)\n",
    "#y_pred_rfr_b = rfr_b.predict(X_test)\n",
    "#y_pred_train_rfr_b = rfr_b.predict(X_train)\n",
    "#print(\"Train RMSE:\", metric(y_train, y_pred_train_rfr_b))\n",
    "#print(\"Test RMSE:\", metric(y_test, y_pred_rfr_b))\n",
    "#RSME_train.append(metric(y_train, y_pred_train_rfr_b))\n",
    "#RSME_test.append(metric(y_test, y_pred_rfr_b))"
   ]
  },
  {
   "cell_type": "markdown",
   "id": "c682bf9c-3b1b-4266-b499-70ae757528df",
   "metadata": {},
   "source": [
    "## Support Vector Machine"
   ]
  },
  {
   "cell_type": "code",
   "execution_count": null,
   "id": "307278c4-021e-4c22-813d-158d4449c6d8",
   "metadata": {},
   "outputs": [],
   "source": [
    "svr = SVR()\n",
    "svr = svr.fit(X_train, y_train)\n",
    "\n",
    "# predict on test-set\n",
    "y_pred_svr = svr.predict(X_test)\n",
    "y_pred_train_svr = svr.predict(X_train)\n",
    "\n",
    "# RMSE on train and test set\n",
    "print(\"Train RMSE:\", metric(y_train, y_pred_train_svr))\n",
    "print(\"Test RMSE:\", metric(y_test, y_pred_svr))\n",
    "RMSE_train.append(metric(y_train, y_pred_train_svr))\n",
    "RMSE_test.append(metric(y_test, y_pred_svr))"
   ]
  },
  {
   "cell_type": "code",
   "execution_count": null,
   "id": "aafb9bd7-eaf3-4573-931c-aa8bf782bc4a",
   "metadata": {
    "tags": []
   },
   "outputs": [],
   "source": [
    "RMSE = {'RMSE_train': RMSE_train, 'RMSE_test': RMSE_test, 'Model':['Linear Regression', 'KNN','Random Forest','SVR']}\n",
    "baseline = pd.DataFrame(RMSE)\n",
    "baseline = baseline.set_index('Model')\n",
    "baseline.plot.bar()\n"
   ]
  },
  {
   "cell_type": "code",
   "execution_count": null,
   "id": "c3ec2fea-ef16-4940-a99e-998498c14ab7",
   "metadata": {},
   "outputs": [],
   "source": []
  }
 ],
 "metadata": {
  "kernelspec": {
   "display_name": "Python 3 (ipykernel)",
   "language": "python",
   "name": "python3"
  },
  "language_info": {
   "codemirror_mode": {
    "name": "ipython",
    "version": 3
   },
   "file_extension": ".py",
   "mimetype": "text/x-python",
   "name": "python",
   "nbconvert_exporter": "python",
   "pygments_lexer": "ipython3",
   "version": "3.9.4"
  }
 },
 "nbformat": 4,
 "nbformat_minor": 5
}
