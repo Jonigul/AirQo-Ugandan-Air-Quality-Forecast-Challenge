{
 "cells": [
  {
   "cell_type": "code",
   "execution_count": null,
   "id": "fb17cffe-3cc3-470f-bee7-0dc5b5bc130b",
   "metadata": {},
   "outputs": [],
   "source": [
    "import pandas as pd \n",
    "import numpy as np \n",
    "import matplotlib.pyplot as plt\n",
    "#import plotly.express as px\n",
    "import math\n",
    "import gc\n",
    "import seaborn as sns\n",
    "\n",
    "from tqdm import tqdm\n",
    "from sklearn.linear_model import LinearRegression\n",
    "from sklearn.model_selection import train_test_split\n",
    "from sklearn.metrics import mean_squared_error, r2_score\n",
    "from sklearn.neighbors import KNeighborsRegressor\n",
    "from sklearn.ensemble import RandomForestRegressor\n",
    "from sklearn.preprocessing import StandardScaler\n",
    "from sklearn.model_selection import GridSearchCV"
   ]
  },
  {
   "cell_type": "code",
   "execution_count": null,
   "id": "e907bb84-3725-475e-bb30-c45c3fc219f8",
   "metadata": {},
   "outputs": [],
   "source": [
    "df_stat = pd.read_csv('./data/df_stat.csv')\n",
    "\n",
    "def metric(y,x):\n",
    "    return round(np.sqrt(mean_squared_error(x,y)),3)\n",
    "\n",
    "df_stat = pd.get_dummies(df_stat, columns=['location'], drop_first=True)\n",
    "\n",
    "RMSE_train = []\n",
    "RMSE_test = []\n",
    "model_name = []\n",
    "\n",
    "feat_stat = ['mean_atmos_press',\n",
    " 'median_wind_spd',\n",
    "  'mean_wind_dir_sin',\n",
    "   'mean_wind_dir_cos',\n",
    "# 'mean_wind_dir',\n",
    "# 'mean_wind_spd',\n",
    " 'mean_temp',\n",
    " 'mean_rel_humidity',\n",
    " 'std_wind_dir',\n",
    "# 'median_atmos_press',\n",
    "# 'var_wind_dir',\n",
    "# 'ptp_wind_spd',\n",
    "# 'median_wind_dir',\n",
    " 'std_rel_humidity',\n",
    " 'std_atmos_press',\n",
    "# 'var_rel_humidity',\n",
    "# 'var_atmos_press',\n",
    " 'std_wind_spd',\n",
    "# 'var_temp',\n",
    "# 'var_wind_spd',\n",
    " 'std_temp',\n",
    " 'min_atmos_press',\n",
    " 'mean_precip',\n",
    "# 'median_rel_humidity',\n",
    "# 'median_temp',\n",
    " 'min_temp',\n",
    " 'std_precip',\n",
    "# 'ptp_wind_dir',\n",
    "# 'var_precip',\n",
    "# 'ptp_atmos_press',\n",
    " 'max_atmos_press',\n",
    "# 'min_wind_spd',\n",
    " 'max_rel_humidity',\n",
    " 'min_wind_dir',\n",
    "# 'ptp_temp',\n",
    "# 'ptp_rel_humidity',\n",
    "# 'max_wind_spd',\n",
    " 'max_wind_dir',\n",
    " 'max_temp',\n",
    " 'min_rel_humidity',\n",
    " 'max_precip',\n",
    "# 'ptp_precip',\n",
    "# 'location_E',\n",
    "# 'location_B',\n",
    "# 'location_D',\n",
    "# 'location_C',\n",
    "# 'median_precip',\n",
    "# 'min_precip'\n",
    "       ]\n",
    "RSEED= 42"
   ]
  },
  {
   "cell_type": "code",
   "execution_count": null,
   "id": "3b6a8fb6-2a0b-45ce-a181-dd9acb738ede",
   "metadata": {},
   "outputs": [],
   "source": [
    "df_stat['mean_wind_dir_sin'] = np.sin(2*np.pi*df_stat.mean_wind_dir/360)\n",
    "df_stat['mean_wind_dir_cos'] = np.cos(2*np.pi*df_stat.mean_wind_dir/360)"
   ]
  },
  {
   "cell_type": "code",
   "execution_count": null,
   "id": "a832cf86-2f52-44b5-b758-7aa0cd4b3583",
   "metadata": {},
   "outputs": [],
   "source": [
    "df_stat.mean_wind_dir_cos.describe()"
   ]
  },
  {
   "cell_type": "code",
   "execution_count": null,
   "id": "61bc21ae-01d1-4bae-bc7d-b4886a3caf81",
   "metadata": {
    "tags": []
   },
   "outputs": [],
   "source": [
    "df_time = pd.read_csv('./data/df_time.csv')\n",
    "\n",
    "#df_time.shape\n",
    "#df_time.info()\n",
    "#df_time.isnull()\n",
    "#df_time.isnull().count\n",
    "df_time.isna().sum()\n",
    "df_time.drop('Unnamed: 0',axis=1 ,inplace=True)\n",
    "col_names = df_time.columns\n",
    "\n",
    "for cn in col_names:\n",
    "    for i in range(len(df_time)):\n",
    "        if np.isnan(df_time[cn][i]):\n",
    "            if 'temp' in cn:\n",
    "                df_time[cn][i] = df_stat['mean_temp'][i]\n",
    "            elif 'precip' in cn:\n",
    "                df_time[cn][i] = df_stat['mean_precip'][i]\n",
    "            elif 'rel_humidity' in cn:\n",
    "                df_time[cn][i] = df_stat['mean_rel_humidity'][i]\n",
    "            elif 'wind_dir' in cn:\n",
    "                df_time[cn][i] = df_stat['mean_wind_dir'][i]\n",
    "            elif 'wind_spd' in cn:\n",
    "                df_time[cn][i] = df_stat['mean_wind_spd'][i]\n",
    "            elif 'atmos_press' in cn:\n",
    "                df_time[cn][i] = df_stat['mean_atmos_press'][i]              "
   ]
  },
  {
   "cell_type": "code",
   "execution_count": null,
   "id": "c1d3b6b7-ed37-4cbb-adb0-8100d6b66f08",
   "metadata": {},
   "outputs": [],
   "source": [
    "imp_features = pd.read_csv('./data/feat_imp_ranked.csv')\n",
    "df_all = df_stat #pd.concat([df_stat, df_time[imp_features.feature.to_list()].iloc[:,:]], axis=1)\n",
    "df_all.shape"
   ]
  },
  {
   "cell_type": "code",
   "execution_count": null,
   "id": "b43d78bc-e0cf-4dcb-84fd-6885070cbce6",
   "metadata": {},
   "outputs": [],
   "source": [
    "df_stat.head(1)"
   ]
  },
  {
   "cell_type": "code",
   "execution_count": null,
   "id": "e35ed7da-8d20-4e0f-abd3-d5689e95c96a",
   "metadata": {},
   "outputs": [],
   "source": [
    "df_stat['mean_temp'][1]"
   ]
  },
  {
   "cell_type": "code",
   "execution_count": null,
   "id": "48a4ded0-bba1-4c07-9114-1bc1a47d0d4f",
   "metadata": {},
   "outputs": [],
   "source": [
    "df_time.isnull().sum().sum()"
   ]
  },
  {
   "cell_type": "code",
   "execution_count": null,
   "id": "a6884e00-7748-4b40-abcd-cb7b961aaa8d",
   "metadata": {},
   "outputs": [],
   "source": [
    "df_all.head()"
   ]
  },
  {
   "cell_type": "code",
   "execution_count": null,
   "id": "e4bdfdb6-5f08-4828-a6df-23fca19db1ba",
   "metadata": {},
   "outputs": [],
   "source": [
    "#imp_features = pd.read_csv('./data/feat_imp_ranked.csv')\n",
    "X = df_stat.iloc[:,3:] #df_all.iloc[:,3:] #df_time[imp_features.feature.to_list()].iloc[:,0:350]\n",
    "y = df_stat.target\n",
    "\n",
    "X_train, X_test, y_train, y_test = train_test_split(X, y, test_size = 0.2, random_state = RSEED)\n",
    "\n",
    "columns = X_train.columns"
   ]
  },
  {
   "cell_type": "code",
   "execution_count": null,
   "id": "b5cbee02-62fe-459a-aa7b-2e425346ba3d",
   "metadata": {},
   "outputs": [],
   "source": [
    "X.head()"
   ]
  },
  {
   "cell_type": "code",
   "execution_count": null,
   "id": "84187e7a-0b72-49e5-b2f6-21f08aaa4417",
   "metadata": {},
   "outputs": [],
   "source": [
    "scalerStand = StandardScaler()\n",
    "X_train = scalerStand.fit_transform(X_train)\n",
    "X_test = scalerStand.transform(X_test)\n",
    "\n",
    "# scaled X_train data to pandas Dataframe\n",
    "X_train = pd.DataFrame(X_train)\n",
    "X_train.columns = columns\n",
    "#X_train.drop('Unnamed: 0', axis=1, inplace=True)\n",
    "\n",
    "# scaled X_test data to pandas Dataframe\n",
    "X_test = pd.DataFrame(X_test)\n",
    "X_test.columns = columns\n",
    "#X_test.drop('Unnamed: 0', axis=1, inplace=True)"
   ]
  },
  {
   "cell_type": "markdown",
   "id": "566f7db6-6e97-4fdc-8f31-6f7bf1e95d4c",
   "metadata": {},
   "source": [
    "## Random Forest Regressor"
   ]
  },
  {
   "cell_type": "code",
   "execution_count": null,
   "id": "c9990e97-4e69-4f18-aa08-d14e7ec7ab63",
   "metadata": {},
   "outputs": [],
   "source": [
    "rfr = RandomForestRegressor()\n",
    "rfr = rfr.fit(X_train, y_train)\n",
    "\n",
    "# predict on test-set\n",
    "y_pred_rfr = rfr.predict(X_test)\n",
    "y_pred_train_rfr = rfr.predict(X_train)\n",
    "\n",
    "# RMSE on train and test set\n",
    "print(\"Train RMSE:\", metric(y_train, y_pred_train_rfr))\n",
    "print(\"Test RMSE:\", metric(y_test, y_pred_rfr))\n",
    "RMSE_train.append(metric(y_train, y_pred_train_rfr))\n",
    "RMSE_test.append(metric(y_test, y_pred_rfr))\n",
    "model_name.append('Random Forest')"
   ]
  },
  {
   "cell_type": "code",
   "execution_count": null,
   "id": "37d50c44-4f88-4cb3-a6c9-f45cfe61129a",
   "metadata": {},
   "outputs": [],
   "source": [
    "importances = rfr.feature_importances_\n",
    "\n",
    "fi = pd.DataFrame(importances)\n",
    "fi = fi.set_index(columns)\n",
    "fi.plot.bar(figsize=(15,10))"
   ]
  },
  {
   "cell_type": "code",
   "execution_count": null,
   "id": "1b1413bb-4516-4013-b184-bd51501c2f07",
   "metadata": {},
   "outputs": [],
   "source": [
    "fi_sort = fi.reset_index()\n",
    "fi_sort.columns =['feature', 'importance']\n",
    "fi_sort = fi_sort.sort_values('importance', ascending=False)\n",
    "feat = fi_sort.feature.to_list()\n",
    "fi_sort.head(20)"
   ]
  },
  {
   "cell_type": "code",
   "execution_count": null,
   "id": "43f12a82-da7a-4332-beed-68fc9ba6fc95",
   "metadata": {},
   "outputs": [],
   "source": [
    "fi_sort.to_csv(\"./data/feat_imp_ranked.csv\")"
   ]
  },
  {
   "cell_type": "code",
   "execution_count": null,
   "id": "71aa9aaf-aa9b-426d-826c-8a655ebcfc3d",
   "metadata": {},
   "outputs": [],
   "source": [
    "# Hyperparameter grid\n",
    "param_grid_rfr = {\n",
    "    'n_estimators': np.linspace(100, 150, 5).astype(int),\n",
    "#    'max_depth': [None] + list(np.linspace(3, 11, 5).astype(int)),\n",
    "    'max_features': ['auto', 'sqrt', 'log2', None],# + [0.5, 0,75, 0.9],\n",
    "#    'max_leaf_nodes': [None] + list(np.linspace(10, 50, 40).astype(int)),\n",
    "#    'min_samples_split': [2, 5, 10],\n",
    "#    'bootstrap': [True, False]\n",
    "}\n",
    "\n",
    "# Create the random search model\n",
    "gs_rfr = GridSearchCV(rfr, param_grid_rfr, n_jobs = -1, \n",
    "                        cv = 5, \n",
    "                        verbose = 5)\n",
    "\n",
    "# Fit \n",
    "gs_rfr.fit(X_train, y_train)\n",
    "\n",
    "    "
   ]
  },
  {
   "cell_type": "markdown",
   "id": "3be580a8-f419-405a-877a-2bcf3c1843d3",
   "metadata": {},
   "source": [
    "gs_rfr.best_params_"
   ]
  },
  {
   "cell_type": "markdown",
   "id": "edb0777f-6489-4641-b9ba-6b1d2bfee492",
   "metadata": {},
   "source": [
    "# predict on test-set\n",
    "y_pred_gs_rfr = gs_rfr.predict(X_test)\n",
    "y_pred_train_gs_rfr = gs_rfr.predict(X_train)\n",
    "\n",
    "# RMSE on train and test set\n",
    "print(\"Train RMSE:\", metric(y_train, y_pred_train_gs_rfr))\n",
    "print(\"Test RMSE:\", metric(y_test, y_pred_gs_rfr))\n",
    "RMSE_train.append(metric(y_train, y_pred_train_gs_rfr))\n",
    "RMSE_test.append(metric(y_test, y_pred_gs_rfr))\n",
    "model_name.append('Random Forest Opt')"
   ]
  },
  {
   "cell_type": "markdown",
   "id": "f1ce4dee-e20c-409f-b478-b8a85e6c95f8",
   "metadata": {},
   "source": [
    "## KNN"
   ]
  },
  {
   "cell_type": "code",
   "execution_count": null,
   "id": "911ee0a8-3a12-4c6f-9271-988f50d0cbf4",
   "metadata": {},
   "outputs": [],
   "source": [
    "knn = KNeighborsRegressor()\n",
    "knn = knn.fit(X_train, y_train)\n",
    "# predict on test-set\n",
    "y_pred_knn = knn.predict(X_test)\n",
    "y_pred_train_knn = knn.predict(X_train)\n",
    "\n",
    "# RMSE on train and test set\n",
    "print(\"Train RMSE:\", metric(y_train, y_pred_train_knn))\n",
    "print(\"Test RMSE:\", metric(y_test, y_pred_knn))\n",
    "RMSE_train.append(metric(y_train, y_pred_train_knn))\n",
    "RMSE_test.append(metric(y_test, y_pred_knn))\n",
    "model_name.append('KNN')"
   ]
  },
  {
   "cell_type": "code",
   "execution_count": null,
   "id": "c602c6ef-72d3-4ed6-94c3-c924ce5e8e83",
   "metadata": {},
   "outputs": [],
   "source": [
    "# Hyperparameter grid\n",
    "param_grid_knn = {\n",
    "    'weights': ['uniform', 'distance'],\n",
    "    'n_neighbors': [5, 15, 25, 35],\n",
    "    'p': [1, 2, 3, 100]\n",
    "}\n",
    "\n",
    "# Create the random search model\n",
    "gs_knn = GridSearchCV(knn, param_grid_knn, n_jobs = -1, \n",
    "                        cv = 5, \n",
    "                        verbose = 5)\n",
    "\n",
    "# Fit \n",
    "gs_knn.fit(X_train, y_train)"
   ]
  },
  {
   "cell_type": "markdown",
   "id": "f1f8e0b0-bb4f-47de-9042-8cc665a7548e",
   "metadata": {},
   "source": [
    "gs_knn.best_params_"
   ]
  },
  {
   "cell_type": "code",
   "execution_count": null,
   "id": "c01df36c-fe86-41dd-9e2a-45a15036c4ae",
   "metadata": {},
   "outputs": [],
   "source": [
    "# predict on test-set\n",
    "y_pred_gs_knn = gs_knn.predict(X_test)\n",
    "y_pred_train_gs_knn = gs_knn.predict(X_train)\n",
    "\n",
    "# RMSE on train and test set\n",
    "print(\"Train RMSE:\", metric(y_train, y_pred_train_gs_knn))\n",
    "print(\"Test RMSE:\", metric(y_test, y_pred_gs_knn))\n",
    "RMSE_train.append(metric(y_train, y_pred_train_gs_knn))\n",
    "RMSE_test.append(metric(y_test, y_pred_gs_knn))\n",
    "model_name.append('KNN Opt')"
   ]
  },
  {
   "cell_type": "markdown",
   "id": "af2f9b89-63f7-48bd-8bbd-6e8518632204",
   "metadata": {},
   "source": [
    "## Plot different RMSE"
   ]
  },
  {
   "cell_type": "code",
   "execution_count": null,
   "id": "05d750a8-55bf-4930-a480-ca0783c50ed5",
   "metadata": {},
   "outputs": [],
   "source": [
    "RMSE = {'RMSE_train': RMSE_train, 'RMSE_test': RMSE_test, 'Model': model_name}\n",
    "baseline = pd.DataFrame(RMSE)\n",
    "baseline = baseline.set_index('Model')\n",
    "baseline.plot.bar()"
   ]
  },
  {
   "cell_type": "code",
   "execution_count": null,
   "id": "4e5e1d1f-33d5-4db7-a9d5-dbaa84924f53",
   "metadata": {},
   "outputs": [],
   "source": []
  }
 ],
 "metadata": {
  "kernelspec": {
   "display_name": "Python 3 (ipykernel)",
   "language": "python",
   "name": "python3"
  },
  "language_info": {
   "codemirror_mode": {
    "name": "ipython",
    "version": 3
   },
   "file_extension": ".py",
   "mimetype": "text/x-python",
   "name": "python",
   "nbconvert_exporter": "python",
   "pygments_lexer": "ipython3",
   "version": "3.9.4"
  }
 },
 "nbformat": 4,
 "nbformat_minor": 5
}
