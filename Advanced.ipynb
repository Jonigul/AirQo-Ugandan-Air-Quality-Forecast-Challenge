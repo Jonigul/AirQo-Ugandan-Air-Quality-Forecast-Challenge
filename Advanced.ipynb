{
 "cells": [
  {
   "cell_type": "code",
   "execution_count": null,
   "id": "fb17cffe-3cc3-470f-bee7-0dc5b5bc130b",
   "metadata": {},
   "outputs": [],
   "source": [
    "import pandas as pd \n",
    "import numpy as np \n",
    "import matplotlib.pyplot as plt\n",
    "import plotly.express as px\n",
    "import math\n",
    "import gc\n",
    "import seaborn as sns\n",
    "import lightgbm as lgbm \n",
    "import xgboost as xgb\n",
    "\n",
    "from tqdm import tqdm\n",
    "from sklearn.linear_model import LinearRegression\n",
    "from sklearn.linear_model import LogisticRegression\n",
    "from sklearn.model_selection import train_test_split\n",
    "from sklearn.metrics import mean_squared_error, r2_score\n",
    "from sklearn.tree import DecisionTreeClassifier\n",
    "from sklearn.neighbors import KNeighborsRegressor\n",
    "from sklearn.ensemble import RandomForestRegressor\n",
    "from sklearn.datasets import make_regression\n",
    "from sklearn.svm import SVR\n",
    "from sklearn.preprocessing import MinMaxScaler,PolynomialFeatures\n",
    "from sklearn.preprocessing import StandardScaler\n"
   ]
  },
  {
   "cell_type": "code",
   "execution_count": null,
   "id": "e907bb84-3725-475e-bb30-c45c3fc219f8",
   "metadata": {},
   "outputs": [],
   "source": [
    "df = pd.read_csv('./data/df_stat.csv')\n",
    "\n",
    "from sklearn.metrics import mean_squared_error\n",
    "def metric(y,x):\n",
    "    return round(np.sqrt(mean_squared_error(x,y)),3)\n",
    "\n",
    "df = pd.get_dummies(df, columns=['location'], drop_first=True)\n",
    "\n",
    "RMSE_train = []\n",
    "RMSE_test = []"
   ]
  },
  {
   "cell_type": "code",
   "execution_count": null,
   "id": "e4bdfdb6-5f08-4828-a6df-23fca19db1ba",
   "metadata": {},
   "outputs": [],
   "source": [
    "X = df.drop(['target', 'ID'], axis=1)\n",
    "y = df.target\n",
    "\n",
    "X_train, X_test, y_train, y_test = train_test_split(X, y, test_size = 0.2, random_state = 42)\n",
    "\n",
    "columns = X_train.columns"
   ]
  },
  {
   "cell_type": "code",
   "execution_count": null,
   "id": "84187e7a-0b72-49e5-b2f6-21f08aaa4417",
   "metadata": {},
   "outputs": [],
   "source": [
    "scalerStand = StandardScaler()\n",
    "X_train = scalerStand.fit_transform(X_train)\n",
    "X_test = scalerStand.transform(X_test)\n",
    "\n",
    "# scaled X_train data to pandas Dataframe\n",
    "X_train = pd.DataFrame(X_train)\n",
    "X_train.columns = columns\n",
    "X_train.drop('Unnamed: 0', axis=1, inplace=True)\n",
    "\n",
    "# scaled X_test data to pandas Dataframe\n",
    "X_test = pd.DataFrame(X_test)\n",
    "X_test.columns = columns\n",
    "X_test.drop('Unnamed: 0', axis=1, inplace=True)"
   ]
  },
  {
   "cell_type": "markdown",
   "id": "566f7db6-6e97-4fdc-8f31-6f7bf1e95d4c",
   "metadata": {},
   "source": [
    "## Random Forest Regressor"
   ]
  },
  {
   "cell_type": "code",
   "execution_count": null,
   "id": "c9990e97-4e69-4f18-aa08-d14e7ec7ab63",
   "metadata": {},
   "outputs": [],
   "source": [
    "rfr = RandomForestRegressor()\n",
    "rfr = rfr.fit(X_train, y_train)\n",
    "\n",
    "# predict on test-set\n",
    "y_pred_rfr = rfr.predict(X_test)\n",
    "y_pred_train_rfr = rfr.predict(X_train)\n",
    "\n",
    "# RMSE on train and test set\n",
    "print(\"Train RMSE:\", metric(y_train, y_pred_train_rfr))\n",
    "print(\"Test RMSE:\", metric(y_test, y_pred_rfr))\n",
    "RMSE_train.append(metric(y_train, y_pred_train_rfr))\n",
    "RMSE_test.append(metric(y_test, y_pred_rfr))"
   ]
  },
  {
   "cell_type": "code",
   "execution_count": null,
   "id": "37d50c44-4f88-4cb3-a6c9-f45cfe61129a",
   "metadata": {},
   "outputs": [],
   "source": [
    "importances = rfr.feature_importances_\n",
    "forest_importances = pd.Series(importances)\n",
    "fi = pd.DataFrame(forest_importances)\n",
    "fi = fi.set_index(columns[1:])\n",
    "fi.plot.bar(figsize=(15,10))"
   ]
  },
  {
   "cell_type": "markdown",
   "id": "f1ce4dee-e20c-409f-b478-b8a85e6c95f8",
   "metadata": {},
   "source": [
    "## KNN"
   ]
  },
  {
   "cell_type": "code",
   "execution_count": null,
   "id": "911ee0a8-3a12-4c6f-9271-988f50d0cbf4",
   "metadata": {},
   "outputs": [],
   "source": [
    "knn = KNeighborsRegressor()\n",
    "knn = knn.fit(X_train, y_train)\n",
    "# predict on test-set\n",
    "y_pred_knn = knn.predict(X_test)\n",
    "y_pred_train_knn = knn.predict(X_train)\n",
    "\n",
    "# RMSE on train and test set\n",
    "print(\"Train RMSE:\", metric(y_train, y_pred_train_knn))\n",
    "print(\"Test RMSE:\", metric(y_test, y_pred_knn))\n",
    "RMSE_train.append(metric(y_train, y_pred_train_knn))\n",
    "RMSE_test.append(metric(y_test, y_pred_knn))"
   ]
  },
  {
   "cell_type": "markdown",
   "id": "af2f9b89-63f7-48bd-8bbd-6e8518632204",
   "metadata": {},
   "source": [
    "## Plot different RMSE"
   ]
  },
  {
   "cell_type": "code",
   "execution_count": null,
   "id": "05d750a8-55bf-4930-a480-ca0783c50ed5",
   "metadata": {},
   "outputs": [],
   "source": [
    "RMSE = {'RMSE_train': RMSE_train, 'RMSE_test': RMSE_test, 'Model':['Random Forest','KNN']}\n",
    "baseline = pd.DataFrame(RMSE)\n",
    "baseline = baseline.set_index('Model')\n",
    "baseline.plot.bar()"
   ]
  },
  {
   "cell_type": "code",
   "execution_count": null,
   "id": "4e5e1d1f-33d5-4db7-a9d5-dbaa84924f53",
   "metadata": {},
   "outputs": [],
   "source": []
  }
 ],
 "metadata": {
  "kernelspec": {
   "display_name": "Python 3 (ipykernel)",
   "language": "python",
   "name": "python3"
  },
  "language_info": {
   "codemirror_mode": {
    "name": "ipython",
    "version": 3
   },
   "file_extension": ".py",
   "mimetype": "text/x-python",
   "name": "python",
   "nbconvert_exporter": "python",
   "pygments_lexer": "ipython3",
   "version": "3.9.4"
  }
 },
 "nbformat": 4,
 "nbformat_minor": 5
}
