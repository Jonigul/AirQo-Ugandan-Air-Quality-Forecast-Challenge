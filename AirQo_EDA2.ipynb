{
 "cells": [
  {
   "cell_type": "code",
   "execution_count": null,
   "metadata": {},
   "outputs": [],
   "source": [
    "import pandas as pd \n",
    "import numpy as np \n",
    "import seaborn as sns\n",
    "import matplotlib as plt\n",
    "import statsmodels as stm"
   ]
  },
  {
   "cell_type": "code",
   "execution_count": null,
   "metadata": {},
   "outputs": [],
   "source": [
    "df = pd.read_csv('data/df_stat.csv')\n",
    "loc_meta = pd.read_csv('data/airqo_metadata.csv')"
   ]
  },
  {
   "cell_type": "code",
   "execution_count": null,
   "metadata": {},
   "outputs": [],
   "source": [
    "df.head()"
   ]
  },
  {
   "cell_type": "code",
   "execution_count": null,
   "metadata": {},
   "outputs": [],
   "source": [
    "df.columns"
   ]
  },
  {
   "cell_type": "code",
   "execution_count": null,
   "metadata": {},
   "outputs": [],
   "source": [
    "df.value_counts('location')"
   ]
  },
  {
   "cell_type": "code",
   "execution_count": null,
   "metadata": {},
   "outputs": [],
   "source": [
    "df['target'].describe()"
   ]
  },
  {
   "cell_type": "code",
   "execution_count": null,
   "metadata": {},
   "outputs": [],
   "source": [
    "df.sort_values(by='location', inplace=True)"
   ]
  },
  {
   "cell_type": "code",
   "execution_count": null,
   "metadata": {},
   "outputs": [],
   "source": [
    "loc_meta"
   ]
  },
  {
   "cell_type": "code",
   "execution_count": null,
   "metadata": {},
   "outputs": [],
   "source": [
    "loc_meta['popkm2'] = loc_meta['popn']/loc_meta['km2']\n",
    "loc_meta['rel_hh_cook_charcoal'] = loc_meta['hh_cook_charcoal']/loc_meta['hh']\n",
    "loc_meta['rel_hh_cook_firewood'] = loc_meta['hh_cook_firewood']/loc_meta['hh']\n",
    "loc_meta['rel_hh_cook_unknown'] = 1-loc_meta['rel_hh_cook_charcoal']-loc_meta['rel_hh_cook_firewood']\n",
    "loc_meta"
   ]
  },
  {
   "cell_type": "code",
   "execution_count": null,
   "metadata": {},
   "outputs": [],
   "source": [
    "#Plotting style\n",
    "sns.set(font_scale=1.5)\n",
    "sns.set_style('ticks')"
   ]
  },
  {
   "cell_type": "markdown",
   "metadata": {},
   "source": [
    "## Temperature\n",
    "\n",
    "Temperature differs a lot by location. Location A has very unstable temperature. Location B and C are more stable."
   ]
  },
  {
   "cell_type": "code",
   "execution_count": null,
   "metadata": {},
   "outputs": [],
   "source": [
    "sns.catplot(x=\"location\", y=\"mean_temp\", data=df, kind=\"violin\", height=7, aspect=10/7)\\\n",
    "    .set(xlabel='Location', ylabel='Mean Temperature in °C', title='Mean Temperature by Location').savefig('images/mean_temp.png');"
   ]
  },
  {
   "cell_type": "code",
   "execution_count": null,
   "metadata": {},
   "outputs": [],
   "source": [
    "sns.catplot(x=\"location\", y=\"min_temp\", data=df, kind=\"violin\");"
   ]
  },
  {
   "cell_type": "code",
   "execution_count": null,
   "metadata": {},
   "outputs": [],
   "source": [
    "sns.catplot(x=\"location\", y=\"max_temp\", data=df, kind=\"violin\");"
   ]
  },
  {
   "cell_type": "code",
   "execution_count": null,
   "metadata": {},
   "outputs": [],
   "source": [
    "sns.catplot(x=\"location\", y=\"std_temp\", data=df, kind=\"violin\");"
   ]
  },
  {
   "cell_type": "markdown",
   "metadata": {},
   "source": [
    "## Precipitation\n",
    "\n",
    "There was no rain in location B at all. Most rain was in location C."
   ]
  },
  {
   "cell_type": "code",
   "execution_count": null,
   "metadata": {},
   "outputs": [],
   "source": [
    "df.groupby(['location']).mean()['mean_precip']"
   ]
  },
  {
   "cell_type": "code",
   "execution_count": null,
   "metadata": {},
   "outputs": [],
   "source": [
    "sns.catplot(x=\"location\", y=\"mean_precip\", data=df, kind=\"violin\", height=7, aspect=10/7)\\\n",
    "    .set(ylim=(0,2.5), xlabel='Location', ylabel='Mean Precipitation in mm', title='Mean Precipitation by Location').savefig('images/mean_precip.png');"
   ]
  },
  {
   "cell_type": "code",
   "execution_count": null,
   "metadata": {},
   "outputs": [],
   "source": [
    "sns.catplot(x=\"location\", y=\"max_precip\", data=df, kind='violin').set(ylim=(0,55), xlabel='Location', ylabel='Maximum Precipitation');#"
   ]
  },
  {
   "cell_type": "markdown",
   "metadata": {},
   "source": [
    "## Humidity\n",
    "\n",
    "There is a wet climate."
   ]
  },
  {
   "cell_type": "code",
   "execution_count": null,
   "metadata": {},
   "outputs": [],
   "source": [
    "sns.catplot(x=\"location\", y=\"mean_rel_humidity\", data=df, kind=\"violin\");"
   ]
  },
  {
   "cell_type": "code",
   "execution_count": null,
   "metadata": {},
   "outputs": [],
   "source": [
    "sns.catplot(x=\"location\", y=\"min_rel_humidity\", data=df, kind=\"violin\");"
   ]
  },
  {
   "cell_type": "markdown",
   "metadata": {},
   "source": [
    "## Wind Direction\n",
    "\n",
    "Wind comes mostly from one direction."
   ]
  },
  {
   "cell_type": "code",
   "execution_count": null,
   "metadata": {},
   "outputs": [],
   "source": [
    "sns.scatterplot(x=\"location\", y=\"aspect\", data=loc_meta);"
   ]
  },
  {
   "cell_type": "code",
   "execution_count": null,
   "metadata": {},
   "outputs": [],
   "source": [
    "sns.catplot(x=\"location\", y=\"mean_wind_dir\", data=df, kind=\"violin\");#"
   ]
  },
  {
   "cell_type": "code",
   "execution_count": null,
   "metadata": {},
   "outputs": [],
   "source": [
    "sns.catplot(x=\"location\", y=\"std_wind_dir\", data=df, kind=\"violin\");"
   ]
  },
  {
   "cell_type": "markdown",
   "metadata": {},
   "source": [
    "## Wind Speed\n",
    "\n",
    "Location B and E are a bit more windy. Rare storms happen in location C. Mostly just (very) light wind."
   ]
  },
  {
   "cell_type": "code",
   "execution_count": null,
   "metadata": {},
   "outputs": [],
   "source": [
    "sns.catplot(x=\"location\", y=\"mean_wind_spd\", data=df, kind=\"violin\");"
   ]
  },
  {
   "cell_type": "code",
   "execution_count": null,
   "metadata": {},
   "outputs": [],
   "source": [
    "sns.catplot(x=\"location\", y=\"max_wind_spd\", data=df, kind=\"violin\");"
   ]
  },
  {
   "cell_type": "code",
   "execution_count": null,
   "metadata": {},
   "outputs": [],
   "source": [
    "sns.catplot(x=\"location\", y=\"std_wind_spd\", data=df, kind=\"violin\");"
   ]
  },
  {
   "cell_type": "markdown",
   "metadata": {},
   "source": [
    "## Atmospheric Pressure\n",
    "\n",
    "Location D is located far lower than the other locations. Therefore here the atmospheric pressure is higher.\n",
    "\n",
    "Might depend on temperature."
   ]
  },
  {
   "cell_type": "code",
   "execution_count": null,
   "metadata": {},
   "outputs": [],
   "source": [
    "sns.scatterplot(x=\"location\", y=\"loc_altitude\", data=loc_meta);"
   ]
  },
  {
   "cell_type": "code",
   "execution_count": null,
   "metadata": {},
   "outputs": [],
   "source": [
    "sns.catplot(x=\"location\", y=\"mean_atmos_press\", data=df, kind=\"violin\", height=7, aspect=10/7)\\\n",
    "    .set(xlabel='Location', ylabel='Mean Atmospheric Pressure in kPa', title='Mean Atmospheric Pressure by Location').savefig('images/mean_atmos.png');"
   ]
  },
  {
   "cell_type": "code",
   "execution_count": null,
   "metadata": {},
   "outputs": [],
   "source": [
    "sns.catplot(x=\"location\", y=\"min_atmos_press\", data=df, kind=\"violin\");"
   ]
  },
  {
   "cell_type": "code",
   "execution_count": null,
   "metadata": {},
   "outputs": [],
   "source": [
    "sns.catplot(x=\"location\", y=\"max_atmos_press\", data=df, kind=\"violin\");"
   ]
  },
  {
   "cell_type": "code",
   "execution_count": null,
   "metadata": {},
   "outputs": [],
   "source": [
    "sns.catplot(x=\"location\", y=\"std_atmos_press\", data=df, kind=\"violin\");"
   ]
  },
  {
   "cell_type": "markdown",
   "metadata": {},
   "source": [
    "## Target"
   ]
  },
  {
   "cell_type": "code",
   "execution_count": null,
   "metadata": {},
   "outputs": [],
   "source": [
    "sns.catplot(x=\"location\", y=\"target\", data=df, kind=\"violin\", height=7, aspect=10/7)\\\n",
    "    .set(ylim=(0,200), xlabel='Location', ylabel='Mean PM2.5 in µg/m³', title='Mean Air Pollution by Location').savefig('images/mean_target.png');"
   ]
  },
  {
   "cell_type": "code",
   "execution_count": null,
   "metadata": {},
   "outputs": [],
   "source": [
    "sns.lmplot(x=\"mean_temp\", y=\"target\", col='location', scatter_kws={\"s\": 10}, line_kws={'color': 'red'}, data=df);"
   ]
  },
  {
   "cell_type": "code",
   "execution_count": null,
   "metadata": {},
   "outputs": [],
   "source": [
    "sns.lmplot(x=\"mean_precip\", y=\"target\", col='location', scatter_kws={\"s\": 10}, line_kws={'color': 'red'}, data=df);"
   ]
  },
  {
   "cell_type": "code",
   "execution_count": null,
   "metadata": {},
   "outputs": [],
   "source": [
    "sns.lmplot(x=\"mean_rel_humidity\", y=\"target\", col='location', scatter_kws={\"s\": 10}, line_kws={'color': 'red'}, data=df);"
   ]
  },
  {
   "cell_type": "code",
   "execution_count": null,
   "metadata": {},
   "outputs": [],
   "source": [
    "sns.lmplot(x=\"mean_wind_spd\", y=\"target\", col='location', scatter_kws={\"s\": 10}, line_kws={'color': 'red'}, data=df);"
   ]
  },
  {
   "cell_type": "code",
   "execution_count": null,
   "metadata": {},
   "outputs": [],
   "source": [
    "sns.lmplot(x=\"mean_wind_dir\", y=\"target\", col='location', scatter_kws={\"s\": 10}, line_kws={'color': 'red'}, data=df);"
   ]
  },
  {
   "cell_type": "code",
   "execution_count": null,
   "metadata": {},
   "outputs": [],
   "source": [
    "sns.lmplot(x=\"mean_atmos_press\", y=\"target\", col='location', scatter_kws={\"s\": 10}, line_kws={'color': 'red'}, data=df);"
   ]
  },
  {
   "cell_type": "code",
   "execution_count": null,
   "metadata": {},
   "outputs": [],
   "source": [
    "roads = loc_meta.melt(id_vars='location',value_vars=['dist_trunk','dist_primary','dist_secondary','dist_tertiary','dist_unclassified','dist_residential'])\n",
    "sns.barplot(x=\"location\", y=\"value\", hue='variable', data=roads).set(ylim=(0,1000),ylabel='Distance in m');"
   ]
  },
  {
   "cell_type": "code",
   "execution_count": null,
   "metadata": {},
   "outputs": [],
   "source": [
    "#fire = loc_meta.melt(id_vars='location',value_vars=['rel_hh_cook_charcoal', 'rel_hh_cook_firewood', 'rel_hh_cook_unknown'])\n",
    "#sns.barplot(x=\"location\", y=\"value\", hue='variable', data=fire).set(ylabel='Number of households');\n",
    "sns.barplot(x=\"location\", y=\"rel_hh_cook_charcoal\", color='b', data=loc_meta)\n",
    "sns.barplot(x=\"location\", y=\"rel_hh_cook_firewood\", color='r', data=loc_meta)\n",
    "sns.barplot(x=\"location\", y=\"rel_hh_cook_unknown\", color='g', data=loc_meta);"
   ]
  },
  {
   "cell_type": "markdown",
   "metadata": {},
   "source": [
    "## Scatterplots"
   ]
  },
  {
   "cell_type": "code",
   "execution_count": null,
   "metadata": {},
   "outputs": [],
   "source": [
    "sns.lmplot(x=\"mean_temp\", y=\"mean_precip\", col='location', scatter_kws={\"s\": 10}, line_kws={'color': 'red'}, data=df);"
   ]
  },
  {
   "cell_type": "code",
   "execution_count": null,
   "metadata": {},
   "outputs": [],
   "source": [
    "sns.lmplot(x=\"mean_temp\", y=\"mean_atmos_press\", col='location', scatter_kws={\"s\": 10}, line_kws={'color': 'red'}, data=df);"
   ]
  },
  {
   "cell_type": "code",
   "execution_count": null,
   "metadata": {},
   "outputs": [],
   "source": [
    "sns.lmplot(x=\"mean_temp\", y=\"mean_wind_spd\", col='location', robust=True, scatter_kws={\"s\": 10}, line_kws={'color': 'red'}, data=df);"
   ]
  },
  {
   "cell_type": "code",
   "execution_count": null,
   "metadata": {},
   "outputs": [],
   "source": [
    "sns.lmplot(x=\"mean_temp\", y=\"mean_rel_humidity\", col='location', scatter_kws={\"s\": 10}, line_kws={'color': 'red'}, data=df);"
   ]
  },
  {
   "cell_type": "code",
   "execution_count": null,
   "metadata": {},
   "outputs": [],
   "source": [
    "sns.lmplot(x=\"mean_rel_humidity\", y=\"mean_atmos_press\", col='location', scatter_kws={\"s\": 10}, line_kws={'color': 'red'}, data=df);"
   ]
  },
  {
   "cell_type": "code",
   "execution_count": null,
   "metadata": {},
   "outputs": [],
   "source": [
    "sns.lmplot(x=\"mean_wind_dir\", y=\"mean_wind_spd\", col='location', scatter_kws={\"s\": 10}, line_kws={'color': 'red'}, data=df);"
   ]
  },
  {
   "cell_type": "code",
   "execution_count": null,
   "metadata": {},
   "outputs": [],
   "source": []
  }
 ],
 "metadata": {
  "interpreter": {
   "hash": "1b44f7cdbd0d87dd37488619ebc4b604cb5005615f933319efac6e1d91f3d17e"
  },
  "kernelspec": {
   "display_name": "Python 3 (ipykernel)",
   "language": "python",
   "name": "python3"
  },
  "language_info": {
   "codemirror_mode": {
    "name": "ipython",
    "version": 3
   },
   "file_extension": ".py",
   "mimetype": "text/x-python",
   "name": "python",
   "nbconvert_exporter": "python",
   "pygments_lexer": "ipython3",
   "version": "3.9.4"
  }
 },
 "nbformat": 4,
 "nbformat_minor": 4
}
